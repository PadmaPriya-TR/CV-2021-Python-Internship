{
 "cells": [
  {
   "cell_type": "markdown",
   "id": "a56c9805",
   "metadata": {},
   "source": [
    "# Create a JSON of all object types and import the JSON into a SQL Database"
   ]
  },
  {
   "cell_type": "code",
   "execution_count": 1,
   "id": "996dc994",
   "metadata": {},
   "outputs": [],
   "source": [
    "import json"
   ]
  },
  {
   "cell_type": "code",
   "execution_count": 2,
   "id": "a1923042",
   "metadata": {},
   "outputs": [],
   "source": [
    "json_data=[\n",
    "    {'name':\"Padma\",'age':21,'Permanent_staff':True,'salary':75000.00,'dept_desgn':'Software Developer'},\n",
    "     {'name':\"Priya\",'age':19,'Permanent_staff':False,'salary':56000.00,'dept_desgn':\"Data Analyst\"},\n",
    "     {'name':\"Mesh\",'age':22,'Permanent_staff':True,'salary':78000.00,'dept_desgn':'Web Developer'},\n",
    "     {'name':\"Ganesh\",'age':23,'Permanent_staff':True,'salary':45000.00,'dept_desgn':'Data Scientist'},\n",
    "     {'name':\"Sudha\",'age':24,'Permanent_staff':True,'salary':67000.00,'dept_desgn':'Help Desk Analyst'}    \n",
    "]\n"
   ]
  },
  {
   "cell_type": "code",
   "execution_count": 3,
   "id": "b03eab7f",
   "metadata": {},
   "outputs": [],
   "source": [
    "res =json.dumps(json_data)"
   ]
  },
  {
   "cell_type": "code",
   "execution_count": 4,
   "id": "9cbf8fbf",
   "metadata": {},
   "outputs": [
    {
     "name": "stdout",
     "output_type": "stream",
     "text": [
      "<mysql.connector.connection_cext.CMySQLConnection object at 0x00000183CF004DC0>\n"
     ]
    }
   ],
   "source": [
    "import mysql.connector\n",
    "mydb = mysql.connector.connect(host=\"localhost\",user=\"root\",password=\"12345\")\n",
    "print(mydb)"
   ]
  },
  {
   "cell_type": "code",
   "execution_count": 5,
   "id": "a8cdfe17",
   "metadata": {},
   "outputs": [],
   "source": [
    "dbse = mydb.cursor()\n",
    "dbse.execute(\"CREATE DATABASE JSONRECORDS1\")"
   ]
  },
  {
   "cell_type": "code",
   "execution_count": 6,
   "id": "f13fde36",
   "metadata": {},
   "outputs": [
    {
     "name": "stdout",
     "output_type": "stream",
     "text": [
      "('doctors',)\n",
      "('employee_details',)\n",
      "('information_schema',)\n",
      "('jsonrecords1',)\n",
      "('mydatabase',)\n",
      "('mysql',)\n",
      "('performance_schema',)\n",
      "('students_management_system',)\n",
      "('sys',)\n",
      "('website',)\n",
      "('websites',)\n"
     ]
    }
   ],
   "source": [
    "dbse = mydb.cursor()\n",
    "dbse.execute(\"SHOW DATABASES\")\n",
    "for entry in dbse:\n",
    "    print(entry)"
   ]
  },
  {
   "cell_type": "code",
   "execution_count": 7,
   "id": "7870ede9",
   "metadata": {},
   "outputs": [],
   "source": [
    "mydb = mysql.connector.connect(host=\"localhost\",user=\"root\",password=\"12345\",database=\"jsonrecords1\")\n",
    "dbse = mydb.cursor()\n",
    "dbse.execute(\"CREATE TABLE employee (name VARCHAR(255),age INT, permanent_staff VARCHAR(255), salary DOUBLE, dept_and_designation VARCHAR(255))\")"
   ]
  },
  {
   "cell_type": "code",
   "execution_count": 8,
   "id": "d916e395",
   "metadata": {},
   "outputs": [
    {
     "name": "stdout",
     "output_type": "stream",
     "text": [
      "('employee',)\n"
     ]
    }
   ],
   "source": [
    "dbse = mydb.cursor()\n",
    "dbse.execute(\"SHOW TABLES\")\n",
    "for value in dbse:\n",
    "    print(value)"
   ]
  },
  {
   "cell_type": "code",
   "execution_count": 9,
   "id": "8dd0ce91",
   "metadata": {},
   "outputs": [
    {
     "name": "stdout",
     "output_type": "stream",
     "text": [
      "('name', b'varchar(255)', 'YES', '', None, '')\n",
      "('age', b'int', 'YES', '', None, '')\n",
      "('permanent_staff', b'varchar(255)', 'YES', '', None, '')\n",
      "('salary', b'double', 'YES', '', None, '')\n",
      "('dept_and_designation', b'varchar(255)', 'YES', '', None, '')\n"
     ]
    }
   ],
   "source": [
    "dbse = mydb.cursor()\n",
    "dbse.execute(\"SHOW COLUMNS FROM employee\")\n",
    "for value in dbse:\n",
    "    print(value)"
   ]
  },
  {
   "cell_type": "code",
   "execution_count": 16,
   "id": "d2355c9f",
   "metadata": {},
   "outputs": [
    {
     "ename": "SyntaxError",
     "evalue": "invalid syntax (<ipython-input-16-a9aa8d98307f>, line 3)",
     "output_type": "error",
     "traceback": [
      "\u001b[1;36m  File \u001b[1;32m\"<ipython-input-16-a9aa8d98307f>\"\u001b[1;36m, line \u001b[1;32m3\u001b[0m\n\u001b[1;33m    value= list(for i in res: res[i])\u001b[0m\n\u001b[1;37m                ^\u001b[0m\n\u001b[1;31mSyntaxError\u001b[0m\u001b[1;31m:\u001b[0m invalid syntax\n"
     ]
    }
   ],
   "source": [
    "dbse = mydb.cursor()\n",
    "sql = \"INSERT INTO employee (name ,age, permanent_staff,salary,dept_designation) VALUES (%s)\"\n",
    "value= list(for i in res: res[i])                         \n",
    "dbse.execute(sql, value)"
   ]
  }
 ],
 "metadata": {
  "kernelspec": {
   "display_name": "Python 3",
   "language": "python",
   "name": "python3"
  },
  "language_info": {
   "codemirror_mode": {
    "name": "ipython",
    "version": 3
   },
   "file_extension": ".py",
   "mimetype": "text/x-python",
   "name": "python",
   "nbconvert_exporter": "python",
   "pygments_lexer": "ipython3",
   "version": "3.9.5"
  }
 },
 "nbformat": 4,
 "nbformat_minor": 5
}
