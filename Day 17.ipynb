{
 "cells": [
  {
   "cell_type": "code",
   "execution_count": 1,
   "id": "7268ec26",
   "metadata": {},
   "outputs": [],
   "source": [
    "#Create a connection for DB and print the version using  python program\n",
    "import mysql.connector"
   ]
  },
  {
   "cell_type": "code",
   "execution_count": 2,
   "id": "cf6d56a2",
   "metadata": {},
   "outputs": [],
   "source": [
    "mydb=mysql.connector.connect(host=\"localhost\",user=\"root\",password=\"12345\")"
   ]
  },
  {
   "cell_type": "code",
   "execution_count": 3,
   "id": "c5242372",
   "metadata": {},
   "outputs": [
    {
     "name": "stdout",
     "output_type": "stream",
     "text": [
      "<mysql.connector.connection_cext.CMySQLConnection object at 0x0000023CE5CC9AF0>\n"
     ]
    }
   ],
   "source": [
    "print(mydb)"
   ]
  },
  {
   "cell_type": "code",
   "execution_count": 4,
   "id": "89133c07",
   "metadata": {},
   "outputs": [
    {
     "name": "stdout",
     "output_type": "stream",
     "text": [
      "DBMS Version:  ('8.0.25',)\n"
     ]
    }
   ],
   "source": [
    "import sys\n",
    "cur=mydb.cursor()\n",
    "cur.execute(\"SELECT VERSION()\")\n",
    "data=cur.fetchone()\n",
    "print(\"DBMS Version: \",str(data))"
   ]
  },
  {
   "cell_type": "code",
   "execution_count": 5,
   "id": "71ecc41a",
   "metadata": {},
   "outputs": [],
   "source": [
    "#Create a multiple tables and insert data in table\n",
    "dbse=mydb.cursor()\n",
    "dbse.execute(\"CREATE DATABASE mydatabase\")"
   ]
  },
  {
   "cell_type": "code",
   "execution_count": 6,
   "id": "99e9f869",
   "metadata": {},
   "outputs": [
    {
     "name": "stdout",
     "output_type": "stream",
     "text": [
      "('information_schema',)\n",
      "('mydatabase',)\n",
      "('mysql',)\n",
      "('performance_schema',)\n",
      "('sys',)\n"
     ]
    }
   ],
   "source": [
    "dbse=mydb.cursor()\n",
    "dbse.execute(\"SHOW DATABASES\")\n",
    "for entry in dbse:\n",
    "    print(entry)"
   ]
  },
  {
   "cell_type": "code",
   "execution_count": 7,
   "id": "c7928060",
   "metadata": {},
   "outputs": [],
   "source": [
    "mydb=mysql.connector.connect(host=\"localhost\",user=\"root\",password=\"12345\",database=\"mydatabase\")\n",
    "dbse=mydb.cursor()\n",
    "dbse.execute(\"CREATE TABLE Employees(Employee_name VARCHAR(255),Employee_dep VARCHAR(255),Employee_id VARCHAR(255))\")"
   ]
  },
  {
   "cell_type": "code",
   "execution_count": 8,
   "id": "4d7ebfcd",
   "metadata": {},
   "outputs": [
    {
     "name": "stdout",
     "output_type": "stream",
     "text": [
      "('employees',)\n"
     ]
    }
   ],
   "source": [
    "dbse=mydb.cursor()\n",
    "dbse.execute(\"SHOW TABLES\")\n",
    "for value in dbse:\n",
    "    print(value)"
   ]
  },
  {
   "cell_type": "code",
   "execution_count": 9,
   "id": "8503b7bc",
   "metadata": {},
   "outputs": [],
   "source": [
    "dbse=mydb.cursor()\n",
    "dbse.execute(\"CREATE TABLE Office(Emp_name VARCHAR(255),Emp_id VARCHAR(255),Emp_address VARCHAR(255))\")"
   ]
  },
  {
   "cell_type": "code",
   "execution_count": 10,
   "id": "1b38637f",
   "metadata": {},
   "outputs": [],
   "source": [
    "dbse=mydb.cursor()\n",
    "dbse.execute(\"CREATE TABLE Student(Stu_name VARCHAR(255),Rollno INT(20),Mark INT(5))\")"
   ]
  },
  {
   "cell_type": "code",
   "execution_count": 11,
   "id": "f66f7e69",
   "metadata": {},
   "outputs": [
    {
     "name": "stdout",
     "output_type": "stream",
     "text": [
      "('employees',)\n",
      "('office',)\n",
      "('student',)\n"
     ]
    }
   ],
   "source": [
    "dbse=mydb.cursor()\n",
    "dbse.execute(\"SHOW TABLES\")\n",
    "for value in dbse:\n",
    "    print(value)"
   ]
  },
  {
   "cell_type": "code",
   "execution_count": 14,
   "id": "a3472273",
   "metadata": {},
   "outputs": [],
   "source": [
    "#Create a employee table and read all the employee name in the table using for loop\n",
    "mydb=mysql.connector.connect(host=\"localhost\",user=\"root\",password=\"12345\",database=\"mydatabase\")\n",
    "mycursor=mydb.cursor()\n",
    "mycursor.execute(\"CREATE TABLE Employee1(ID INT AUTO_INCREMENT PRIMARY KEY,Name VARCHAR(255),Address VARCHAR(255))\")"
   ]
  },
  {
   "cell_type": "code",
   "execution_count": 15,
   "id": "c5686fed",
   "metadata": {},
   "outputs": [
    {
     "name": "stdout",
     "output_type": "stream",
     "text": [
      "1 Record Inserted\n"
     ]
    }
   ],
   "source": [
    "mycursor=mydb.cursor()\n",
    "sql=\"INSERT INTO Employee1(ID,Name,Address) VALUES(%s,%s,%s)\"\n",
    "val=(\"123\",\"Priya\",\"Nagercoil\")\n",
    "mycursor.execute(sql,val)\n",
    "mydb.commit()\n",
    "print(mycursor.rowcount,\"Record Inserted\")"
   ]
  },
  {
   "cell_type": "code",
   "execution_count": 16,
   "id": "0e23a506",
   "metadata": {},
   "outputs": [
    {
     "name": "stdout",
     "output_type": "stream",
     "text": [
      "1 Record Inserted\n"
     ]
    }
   ],
   "source": [
    "mycursor=mydb.cursor()\n",
    "sql=\"INSERT INTO Employee1(ID,Name,Address) VALUES(%s,%s,%s)\"\n",
    "val=(\"234\",\"Padma\",\"Chennai\")\n",
    "mycursor.execute(sql,val)\n",
    "mydb.commit()\n",
    "print(mycursor.rowcount,\"Record Inserted\")\n"
   ]
  },
  {
   "cell_type": "code",
   "execution_count": 21,
   "id": "7dd4f7c7",
   "metadata": {},
   "outputs": [
    {
     "name": "stdout",
     "output_type": "stream",
     "text": [
      "4 Records Inserted\n"
     ]
    }
   ],
   "source": [
    "mycursor=mydb.cursor()\n",
    "sql=\"INSERT INTO Employee1(ID,Name,Address) VALUES(%s,%s,%s)\"\n",
    "val=[('345','Mesh','Trichy'),('236','Raji','Coimbatore'),('590','Thana','Salem'),('490','Sudha','Kerala')]\n",
    "mycursor.executemany(sql,val)\n",
    "mydb.commit()\n",
    "print(mycursor.rowcount,\"Records Inserted\")"
   ]
  },
  {
   "cell_type": "code",
   "execution_count": 22,
   "id": "ef10247d",
   "metadata": {},
   "outputs": [
    {
     "name": "stdout",
     "output_type": "stream",
     "text": [
      "(123, 'Priya', 'Nagercoil')\n",
      "(234, 'Padma', 'Chennai')\n",
      "(236, 'Raji', 'Coimbatore')\n",
      "(345, 'Mesh', 'Trichy')\n",
      "(490, 'Sudha', 'Kerala')\n",
      "(590, 'Thana', 'Salem')\n"
     ]
    }
   ],
   "source": [
    "mycursor=mydb.cursor()\n",
    "mycursor.execute(\"SELECT * FROM Employee1\")\n",
    "myresult=mycursor.fetchall()\n",
    "for x in myresult:\n",
    "    print(x)"
   ]
  },
  {
   "cell_type": "code",
   "execution_count": 23,
   "id": "b65e804c",
   "metadata": {},
   "outputs": [
    {
     "name": "stdout",
     "output_type": "stream",
     "text": [
      "('Priya',)\n",
      "('Padma',)\n",
      "('Raji',)\n",
      "('Mesh',)\n",
      "('Sudha',)\n",
      "('Thana',)\n"
     ]
    }
   ],
   "source": [
    "mycursor=mydb.cursor()\n",
    "mycursor.execute(\"SELECT Name FROM Employee1\")\n",
    "myresult=mycursor.fetchall()\n",
    "for x in myresult:\n",
    "    print(x)"
   ]
  },
  {
   "cell_type": "code",
   "execution_count": null,
   "id": "b8928e31",
   "metadata": {},
   "outputs": [],
   "source": []
  }
 ],
 "metadata": {
  "kernelspec": {
   "display_name": "Python 3",
   "language": "python",
   "name": "python3"
  },
  "language_info": {
   "codemirror_mode": {
    "name": "ipython",
    "version": 3
   },
   "file_extension": ".py",
   "mimetype": "text/x-python",
   "name": "python",
   "nbconvert_exporter": "python",
   "pygments_lexer": "ipython3",
   "version": "3.9.5"
  }
 },
 "nbformat": 4,
 "nbformat_minor": 5
}
