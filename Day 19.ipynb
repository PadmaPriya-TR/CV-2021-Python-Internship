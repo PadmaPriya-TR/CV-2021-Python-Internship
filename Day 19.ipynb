{
 "cells": [
  {
   "cell_type": "markdown",
   "id": "76031bf5",
   "metadata": {},
   "source": [
    "# Create an Excel with data of Student database and all the values which is required for Student Management Database. Read the excel file and add the data into DB (using script) "
   ]
  },
  {
   "cell_type": "code",
   "execution_count": 1,
   "id": "39e4a345",
   "metadata": {},
   "outputs": [
    {
     "data": {
      "text/html": [
       "<div>\n",
       "<style scoped>\n",
       "    .dataframe tbody tr th:only-of-type {\n",
       "        vertical-align: middle;\n",
       "    }\n",
       "\n",
       "    .dataframe tbody tr th {\n",
       "        vertical-align: top;\n",
       "    }\n",
       "\n",
       "    .dataframe thead th {\n",
       "        text-align: right;\n",
       "    }\n",
       "</style>\n",
       "<table border=\"1\" class=\"dataframe\">\n",
       "  <thead>\n",
       "    <tr style=\"text-align: right;\">\n",
       "      <th></th>\n",
       "      <th>Roll No</th>\n",
       "      <th>Name</th>\n",
       "      <th>Degree</th>\n",
       "      <th>Dept</th>\n",
       "      <th>Email</th>\n",
       "      <th>College</th>\n",
       "    </tr>\n",
       "  </thead>\n",
       "  <tbody>\n",
       "    <tr>\n",
       "      <th>0</th>\n",
       "      <td>1</td>\n",
       "      <td>Padma Priya</td>\n",
       "      <td>BE</td>\n",
       "      <td>CSE</td>\n",
       "      <td>priya@gmail.com</td>\n",
       "      <td>ACET</td>\n",
       "    </tr>\n",
       "    <tr>\n",
       "      <th>1</th>\n",
       "      <td>2</td>\n",
       "      <td>Raji</td>\n",
       "      <td>BE</td>\n",
       "      <td>ECE</td>\n",
       "      <td>raji@gmail.com</td>\n",
       "      <td>ACET</td>\n",
       "    </tr>\n",
       "    <tr>\n",
       "      <th>2</th>\n",
       "      <td>3</td>\n",
       "      <td>Thana</td>\n",
       "      <td>BE</td>\n",
       "      <td>MECH</td>\n",
       "      <td>thana@gmail.com</td>\n",
       "      <td>ACET</td>\n",
       "    </tr>\n",
       "    <tr>\n",
       "      <th>3</th>\n",
       "      <td>4</td>\n",
       "      <td>Mesh</td>\n",
       "      <td>BE</td>\n",
       "      <td>EEE</td>\n",
       "      <td>mesh@gmail.com</td>\n",
       "      <td>ACET</td>\n",
       "    </tr>\n",
       "    <tr>\n",
       "      <th>4</th>\n",
       "      <td>5</td>\n",
       "      <td>Rosy</td>\n",
       "      <td>BE</td>\n",
       "      <td>CIVIL</td>\n",
       "      <td>rosy@gmail.com</td>\n",
       "      <td>ACET</td>\n",
       "    </tr>\n",
       "    <tr>\n",
       "      <th>5</th>\n",
       "      <td>6</td>\n",
       "      <td>Femee</td>\n",
       "      <td>BE</td>\n",
       "      <td>CSE</td>\n",
       "      <td>femee@gmail.com</td>\n",
       "      <td>ACET</td>\n",
       "    </tr>\n",
       "    <tr>\n",
       "      <th>6</th>\n",
       "      <td>7</td>\n",
       "      <td>Aysha</td>\n",
       "      <td>BE</td>\n",
       "      <td>ECE</td>\n",
       "      <td>aysh@gmail.com</td>\n",
       "      <td>ACET</td>\n",
       "    </tr>\n",
       "    <tr>\n",
       "      <th>7</th>\n",
       "      <td>8</td>\n",
       "      <td>Shalu</td>\n",
       "      <td>BE</td>\n",
       "      <td>EEE</td>\n",
       "      <td>shalu@gmail.com</td>\n",
       "      <td>ACET</td>\n",
       "    </tr>\n",
       "    <tr>\n",
       "      <th>8</th>\n",
       "      <td>9</td>\n",
       "      <td>Mothi</td>\n",
       "      <td>BE</td>\n",
       "      <td>CSE</td>\n",
       "      <td>mothi@gmail.com</td>\n",
       "      <td>ACET</td>\n",
       "    </tr>\n",
       "    <tr>\n",
       "      <th>9</th>\n",
       "      <td>10</td>\n",
       "      <td>Ashi</td>\n",
       "      <td>BE</td>\n",
       "      <td>CSE</td>\n",
       "      <td>ashi@gmail.com</td>\n",
       "      <td>ACET</td>\n",
       "    </tr>\n",
       "    <tr>\n",
       "      <th>10</th>\n",
       "      <td>11</td>\n",
       "      <td>Gevee</td>\n",
       "      <td>BE</td>\n",
       "      <td>CIVIL</td>\n",
       "      <td>gevee@gmail.com</td>\n",
       "      <td>ACET</td>\n",
       "    </tr>\n",
       "    <tr>\n",
       "      <th>11</th>\n",
       "      <td>12</td>\n",
       "      <td>Shiya</td>\n",
       "      <td>BE</td>\n",
       "      <td>MECH</td>\n",
       "      <td>shiya@gmail.com</td>\n",
       "      <td>ACET</td>\n",
       "    </tr>\n",
       "    <tr>\n",
       "      <th>12</th>\n",
       "      <td>13</td>\n",
       "      <td>Athvik</td>\n",
       "      <td>BE</td>\n",
       "      <td>ECE</td>\n",
       "      <td>athvik@gmail.com</td>\n",
       "      <td>ACET</td>\n",
       "    </tr>\n",
       "  </tbody>\n",
       "</table>\n",
       "</div>"
      ],
      "text/plain": [
       "    Roll No         Name Degree   Dept             Email College\n",
       "0         1  Padma Priya    BE     CSE   priya@gmail.com    ACET\n",
       "1         2         Raji    BE     ECE    raji@gmail.com    ACET\n",
       "2         3        Thana    BE    MECH   thana@gmail.com    ACET\n",
       "3         4         Mesh    BE     EEE    mesh@gmail.com    ACET\n",
       "4         5         Rosy    BE   CIVIL    rosy@gmail.com    ACET\n",
       "5         6        Femee    BE     CSE   femee@gmail.com    ACET\n",
       "6         7        Aysha    BE     ECE    aysh@gmail.com    ACET\n",
       "7         8        Shalu    BE     EEE   shalu@gmail.com    ACET\n",
       "8         9        Mothi    BE     CSE   mothi@gmail.com    ACET\n",
       "9        10         Ashi    BE     CSE    ashi@gmail.com    ACET\n",
       "10       11        Gevee    BE   CIVIL   gevee@gmail.com    ACET\n",
       "11       12        Shiya    BE    MECH   shiya@gmail.com    ACET\n",
       "12       13       Athvik    BE     ECE  athvik@gmail.com    ACET"
      ]
     },
     "execution_count": 1,
     "metadata": {},
     "output_type": "execute_result"
    }
   ],
   "source": [
    "#Reading data from Excel\n",
    "import pandas as pd\n",
    "pd.read_excel(r\"C:\\Users\\hp\\Documents\\Students_Data.xls\")"
   ]
  },
  {
   "cell_type": "code",
   "execution_count": 2,
   "id": "1656abe4",
   "metadata": {},
   "outputs": [
    {
     "name": "stdout",
     "output_type": "stream",
     "text": [
      "<mysql.connector.connection_cext.CMySQLConnection object at 0x000001C1071CDD60>\n"
     ]
    }
   ],
   "source": [
    "import mysql.connector\n",
    "mydb=mysql.connector.connect(host=\"localhost\",user=\"root\",password=\"12345\")\n",
    "mycursor=mydb.cursor()\n",
    "print(mydb)"
   ]
  },
  {
   "cell_type": "code",
   "execution_count": 3,
   "id": "0d2d7732",
   "metadata": {},
   "outputs": [
    {
     "name": "stdout",
     "output_type": "stream",
     "text": [
      "('doctors',)\n",
      "('information_schema',)\n",
      "('mydatabase',)\n",
      "('mysql',)\n",
      "('performance_schema',)\n",
      "('students_management_system',)\n",
      "('sys',)\n"
     ]
    }
   ],
   "source": [
    "dbse=mydb.cursor()\n",
    "dbse.execute(\"SHOW DATABASES\")\n",
    "for entry in dbse:\n",
    "    print(entry)"
   ]
  },
  {
   "cell_type": "code",
   "execution_count": 4,
   "id": "ee4bf098",
   "metadata": {},
   "outputs": [],
   "source": [
    "mydb=mysql.connector.connect(host=\"localhost\",user=\"root\",password=\"12345\",database=\"STUDENTS_MANAGEMENT_SYSTEM\")\n",
    "dbse=mydb.cursor()\n",
    "dbse.execute(\"CREATE TABLE STUDENTS_RECORDS(ROLL_NO int,NAME VARCHAR(255),DEGREE VARCHAR(255),DEPARTMENT VARCHAR(255),EMAIL VARCHAR(255),COLLEGE VARCHAR(255))\")"
   ]
  },
  {
   "cell_type": "code",
   "execution_count": 5,
   "id": "469a48a7",
   "metadata": {},
   "outputs": [
    {
     "name": "stdout",
     "output_type": "stream",
     "text": [
      "[1.0, 'Padma Priya', 'BE ', 'CSE', 'priya@gmail.com', 'ACET']\n",
      "[2.0, 'Raji', 'BE ', 'ECE', 'raji@gmail.com', 'ACET']\n",
      "[3.0, 'Thana', 'BE ', 'MECH', 'thana@gmail.com', 'ACET']\n",
      "[4.0, 'Mesh', 'BE ', 'EEE', 'mesh@gmail.com', 'ACET']\n",
      "[5.0, 'Rosy', 'BE ', 'CIVIL', 'rosy@gmail.com', 'ACET']\n",
      "[6.0, 'Femee', 'BE ', 'CSE', 'femee@gmail.com', 'ACET']\n",
      "[7.0, 'Aysha', 'BE ', 'ECE', 'aysh@gmail.com', 'ACET']\n",
      "[8.0, 'Shalu', 'BE ', 'EEE', 'shalu@gmail.com', 'ACET']\n",
      "[9.0, 'Mothi', 'BE ', 'CSE', 'mothi@gmail.com', 'ACET']\n",
      "[10.0, 'Ashi', 'BE ', 'CSE', 'ashi@gmail.com', 'ACET']\n",
      "[11.0, 'Gevee', 'BE ', 'CIVIL', 'gevee@gmail.com', 'ACET']\n",
      "[12.0, 'Shiya', 'BE ', 'MECH', 'shiya@gmail.com', 'ACET']\n",
      "[13.0, 'Athvik', 'BE ', 'ECE', 'athvik@gmail.com', 'ACET']\n"
     ]
    }
   ],
   "source": [
    "import mysql.connector\n",
    "import xlrd\n",
    "mydb=mysql.connector.connect(host=\"localhost\",user=\"root\",password=\"12345\",database=\"STUDENTS_MANAGEMENT_SYSTEM\")\n",
    "cur=mydb.cursor()\n",
    "loc=(\"C:\\\\Users\\\\hp\\\\Documents\\\\Students_Data.xls\")\n",
    "book=xlrd.open_workbook(loc)\n",
    "sheet=book.sheet_by_index(0)\n",
    "sheet.cell_value(0,0)\n",
    "for i in range(1,14):\n",
    "    print(sheet.row_values(i))"
   ]
  },
  {
   "cell_type": "code",
   "execution_count": 7,
   "id": "6fc5939e",
   "metadata": {},
   "outputs": [],
   "source": [
    "#Adding data from Excel to MYSql\n",
    "import mysql.connector\n",
    "import xlrd\n",
    "mydb=mysql.connector.connect(host=\"localhost\",user=\"root\",password=\"12345\",database=\"STUDENTS_MANAGEMENT_SYSTEM\")\n",
    "cur=mydb.cursor()\n",
    "loc=(\"C:\\\\Users\\\\hp\\\\Documents\\\\Students_Data.xls\")\n",
    "l=list()\n",
    "book=xlrd.open_workbook(loc)\n",
    "sheet=book.sheet_by_index(0)\n",
    "sheet.cell_value(0,0)\n",
    "for i in range(1,14):\n",
    "    l.append(tuple(sheet.row_values(i)))\n",
    "ins=\"Insert into STUDENTS_RECORDS(ROLL_NO,NAME,DEGREE,DEPARTMENT,EMAIL,COLLEGE)values(%s,%s,%s,%s,%s,%s)\"\n",
    "cur.executemany(ins,l)\n",
    "mydb.commit()\n",
    "mydb.close()"
   ]
  },
  {
   "cell_type": "code",
   "execution_count": 8,
   "id": "1956a57d",
   "metadata": {},
   "outputs": [
    {
     "name": "stdout",
     "output_type": "stream",
     "text": [
      "(1, 'Padma Priya', 'BE ', 'CSE', 'priya@gmail.com', 'ACET')\n",
      "(2, 'Raji', 'BE ', 'ECE', 'raji@gmail.com', 'ACET')\n",
      "(3, 'Thana', 'BE ', 'MECH', 'thana@gmail.com', 'ACET')\n",
      "(4, 'Mesh', 'BE ', 'EEE', 'mesh@gmail.com', 'ACET')\n",
      "(5, 'Rosy', 'BE ', 'CIVIL', 'rosy@gmail.com', 'ACET')\n",
      "(6, 'Femee', 'BE ', 'CSE', 'femee@gmail.com', 'ACET')\n",
      "(7, 'Aysha', 'BE ', 'ECE', 'aysh@gmail.com', 'ACET')\n",
      "(8, 'Shalu', 'BE ', 'EEE', 'shalu@gmail.com', 'ACET')\n",
      "(9, 'Mothi', 'BE ', 'CSE', 'mothi@gmail.com', 'ACET')\n",
      "(10, 'Ashi', 'BE ', 'CSE', 'ashi@gmail.com', 'ACET')\n",
      "(11, 'Gevee', 'BE ', 'CIVIL', 'gevee@gmail.com', 'ACET')\n",
      "(12, 'Shiya', 'BE ', 'MECH', 'shiya@gmail.com', 'ACET')\n",
      "(13, 'Athvik', 'BE ', 'ECE', 'athvik@gmail.com', 'ACET')\n"
     ]
    }
   ],
   "source": [
    "#Fetching data from database\n",
    "import mysql.connector\n",
    "mydb=mysql.connector.connect(host=\"localhost\",user=\"root\",password=\"12345\",database=\"STUDENTS_MANAGEMENT_SYSTEM\")\n",
    "cursor=mydb.cursor()\n",
    "cursor.execute(\"SELECT * FROM STUDENTS_RECORDS\")\n",
    "myresult=cursor.fetchall()\n",
    "for x in myresult:\n",
    "    print(x)"
   ]
  },
  {
   "cell_type": "code",
   "execution_count": 12,
   "id": "c574707e",
   "metadata": {},
   "outputs": [
    {
     "name": "stdout",
     "output_type": "stream",
     "text": [
      "(1, 'Padma Priya', 'BE ', 'CSE', 'priya@gmail.com', 'ACET')\n",
      "(6, 'Femee', 'BE ', 'CSE', 'femee@gmail.com', 'ACET')\n",
      "(9, 'Mothi', 'BE ', 'CSE', 'mothi@gmail.com', 'ACET')\n",
      "(10, 'Ashi', 'BE ', 'CSE', 'ashi@gmail.com', 'ACET')\n"
     ]
    }
   ],
   "source": [
    "cursor=mydb.cursor()\n",
    "cursor.execute(\"SELECT * FROM STUDENTS_RECORDS WHERE DEPARTMENT='CSE'\")\n",
    "myresult=cursor.fetchall()\n",
    "for x in myresult:\n",
    "    print(x)"
   ]
  },
  {
   "cell_type": "code",
   "execution_count": 14,
   "id": "5d714ebb",
   "metadata": {},
   "outputs": [
    {
     "name": "stdout",
     "output_type": "stream",
     "text": [
      "(4, 'Mesh', 'BE ', 'EEE', 'mesh@gmail.com', 'ACET')\n"
     ]
    }
   ],
   "source": [
    "cursor=mydb.cursor()\n",
    "cursor.execute(\"SELECT * FROM STUDENTS_RECORD WHERE ROLL_NO=4\")\n",
    "myresult=cursor.fetchall()\n",
    "for x in myresult:\n",
    "    print(x)"
   ]
  },
  {
   "cell_type": "code",
   "execution_count": 9,
   "id": "568b646f",
   "metadata": {},
   "outputs": [
    {
     "name": "stdout",
     "output_type": "stream",
     "text": [
      "Padma Priya\n"
     ]
    }
   ],
   "source": [
    "import openpyxl\n",
    "wb_obj=openpyxl.load_workbook(r\"C:\\Users\\hp\\Documents\\Students.xlsx\")\n",
    "sheet_obj=wb_obj.active\n",
    "cell_obj=sheet_obj.cell(row=2,column=2)\n",
    "print(cell_obj.value)"
   ]
  },
  {
   "cell_type": "code",
   "execution_count": 10,
   "id": "b065ac66",
   "metadata": {},
   "outputs": [
    {
     "name": "stdout",
     "output_type": "stream",
     "text": [
      "5\n",
      "Rosy\n",
      "BE \n",
      "CIVIL\n",
      "rosy@gmail.com\n",
      "ACET\n"
     ]
    }
   ],
   "source": [
    "for i in range(1,7):\n",
    "    cell_obj=sheet_obj.cell(row=6,column=i)\n",
    "    print(cell_obj.value)"
   ]
  },
  {
   "cell_type": "code",
   "execution_count": 11,
   "id": "1c3118d8",
   "metadata": {},
   "outputs": [
    {
     "name": "stdout",
     "output_type": "stream",
     "text": [
      "Padma Priya\n",
      "Raji\n",
      "Thana\n",
      "Mesh\n",
      "Rosy\n",
      "Femee\n",
      "Aysha\n",
      "Shalu\n",
      "Mothi\n",
      "Ashi\n",
      "Gevee\n",
      "Shiya\n",
      "Athvik\n"
     ]
    }
   ],
   "source": [
    "wb_obj=openpyxl.load_workbook(r\"C:\\Users\\hp\\Documents\\Students.xlsx\")\n",
    "sheet_obj=wb_obj.active\n",
    "for i in range(2,15):\n",
    "    cell_obj=sheet_obj.cell(row=i,column=2)\n",
    "    print(cell_obj.value)"
   ]
  },
  {
   "cell_type": "code",
   "execution_count": null,
   "id": "d900952e",
   "metadata": {},
   "outputs": [],
   "source": []
  }
 ],
 "metadata": {
  "kernelspec": {
   "display_name": "Python 3",
   "language": "python",
   "name": "python3"
  },
  "language_info": {
   "codemirror_mode": {
    "name": "ipython",
    "version": 3
   },
   "file_extension": ".py",
   "mimetype": "text/x-python",
   "name": "python",
   "nbconvert_exporter": "python",
   "pygments_lexer": "ipython3",
   "version": "3.9.5"
  }
 },
 "nbformat": 4,
 "nbformat_minor": 5
}
