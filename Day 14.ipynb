{
 "cells": [
  {
   "cell_type": "code",
   "execution_count": 1,
   "id": "8acac151",
   "metadata": {},
   "outputs": [
    {
     "ename": "NameError",
     "evalue": "name 'abcd' is not defined",
     "output_type": "error",
     "traceback": [
      "\u001b[1;31m---------------------------------------------------------------------------\u001b[0m",
      "\u001b[1;31mNameError\u001b[0m                                 Traceback (most recent call last)",
      "\u001b[1;32m<ipython-input-1-66274f548586>\u001b[0m in \u001b[0;36m<module>\u001b[1;34m\u001b[0m\n\u001b[0;32m      1\u001b[0m \u001b[1;31m#list down all the error types and check all the errors using a python program for all errors\u001b[0m\u001b[1;33m\u001b[0m\u001b[1;33m\u001b[0m\u001b[1;33m\u001b[0m\u001b[0m\n\u001b[1;32m----> 2\u001b[1;33m \u001b[0mlist\u001b[0m\u001b[1;33m=\u001b[0m\u001b[0mabcd\u001b[0m\u001b[1;33m\u001b[0m\u001b[1;33m\u001b[0m\u001b[0m\n\u001b[0m\u001b[0;32m      3\u001b[0m \u001b[0mprint\u001b[0m\u001b[1;33m(\u001b[0m\u001b[0mlist\u001b[0m\u001b[1;33m)\u001b[0m\u001b[1;33m\u001b[0m\u001b[1;33m\u001b[0m\u001b[0m\n",
      "\u001b[1;31mNameError\u001b[0m: name 'abcd' is not defined"
     ]
    }
   ],
   "source": [
    "#list down all the error types and check all the errors using a python program for all errors\n",
    "#NameError\n",
    "list=abcd\n",
    "print(list)"
   ]
  },
  {
   "cell_type": "code",
   "execution_count": 2,
   "id": "b822f19e",
   "metadata": {},
   "outputs": [
    {
     "ename": "TypeError",
     "evalue": "can only concatenate str (not \"int\") to str",
     "output_type": "error",
     "traceback": [
      "\u001b[1;31m---------------------------------------------------------------------------\u001b[0m",
      "\u001b[1;31mTypeError\u001b[0m                                 Traceback (most recent call last)",
      "\u001b[1;32m<ipython-input-2-c5b0a42f6a1f>\u001b[0m in \u001b[0;36m<module>\u001b[1;34m\u001b[0m\n\u001b[0;32m      1\u001b[0m \u001b[1;31m#TypeError\u001b[0m\u001b[1;33m\u001b[0m\u001b[1;33m\u001b[0m\u001b[1;33m\u001b[0m\u001b[0m\n\u001b[0;32m      2\u001b[0m \u001b[0mnum\u001b[0m\u001b[1;33m=\u001b[0m\u001b[1;34m'187'\u001b[0m\u001b[1;33m\u001b[0m\u001b[1;33m\u001b[0m\u001b[0m\n\u001b[1;32m----> 3\u001b[1;33m \u001b[0mnum\u001b[0m\u001b[1;33m+=\u001b[0m\u001b[1;36m123\u001b[0m\u001b[1;33m\u001b[0m\u001b[1;33m\u001b[0m\u001b[0m\n\u001b[0m",
      "\u001b[1;31mTypeError\u001b[0m: can only concatenate str (not \"int\") to str"
     ]
    }
   ],
   "source": [
    "#TypeError\n",
    "num='187'\n",
    "num+=123"
   ]
  },
  {
   "cell_type": "code",
   "execution_count": 3,
   "id": "3ea73e1c",
   "metadata": {},
   "outputs": [
    {
     "ename": "SyntaxError",
     "evalue": "invalid syntax (<ipython-input-3-d4822658fe5a>, line 2)",
     "output_type": "error",
     "traceback": [
      "\u001b[1;36m  File \u001b[1;32m\"<ipython-input-3-d4822658fe5a>\"\u001b[1;36m, line \u001b[1;32m2\u001b[0m\n\u001b[1;33m    for i in range(1,10)   #\":\" is missing\u001b[0m\n\u001b[1;37m                           ^\u001b[0m\n\u001b[1;31mSyntaxError\u001b[0m\u001b[1;31m:\u001b[0m invalid syntax\n"
     ]
    }
   ],
   "source": [
    "#SyntaxError\n",
    "for i in range(1,10)   #\":\" is missing\n",
    "    print(i)"
   ]
  },
  {
   "cell_type": "code",
   "execution_count": 4,
   "id": "ac1fe1c3",
   "metadata": {},
   "outputs": [
    {
     "name": "stdout",
     "output_type": "stream",
     "text": [
      "Enter Roll number:9\n"
     ]
    },
    {
     "ename": "IndexError",
     "evalue": "list index out of range",
     "output_type": "error",
     "traceback": [
      "\u001b[1;31m---------------------------------------------------------------------------\u001b[0m",
      "\u001b[1;31mIndexError\u001b[0m                                Traceback (most recent call last)",
      "\u001b[1;32m<ipython-input-4-e7979163a0d8>\u001b[0m in \u001b[0;36m<module>\u001b[1;34m\u001b[0m\n\u001b[0;32m      2\u001b[0m \u001b[0mstudents\u001b[0m\u001b[1;33m=\u001b[0m \u001b[1;33m[\u001b[0m\u001b[1;34m\"Padma\"\u001b[0m\u001b[1;33m,\u001b[0m\u001b[1;34m\"Priya\"\u001b[0m\u001b[1;33m,\u001b[0m\u001b[1;34m\"Mesh\"\u001b[0m\u001b[1;33m,\u001b[0m\u001b[1;34m\"Raji\"\u001b[0m\u001b[1;33m,\u001b[0m\u001b[1;34m\"Thana\"\u001b[0m\u001b[1;33m]\u001b[0m\u001b[1;33m\u001b[0m\u001b[1;33m\u001b[0m\u001b[0m\n\u001b[0;32m      3\u001b[0m \u001b[0mroll\u001b[0m \u001b[1;33m=\u001b[0m \u001b[0mint\u001b[0m\u001b[1;33m(\u001b[0m\u001b[0minput\u001b[0m\u001b[1;33m(\u001b[0m\u001b[1;34m\"Enter Roll number:\"\u001b[0m\u001b[1;33m)\u001b[0m\u001b[1;33m)\u001b[0m\u001b[1;33m\u001b[0m\u001b[1;33m\u001b[0m\u001b[0m\n\u001b[1;32m----> 4\u001b[1;33m \u001b[0mprint\u001b[0m\u001b[1;33m(\u001b[0m\u001b[1;34m\"Your name is \"\u001b[0m\u001b[1;33m,\u001b[0m\u001b[0mstudents\u001b[0m\u001b[1;33m[\u001b[0m\u001b[0mroll\u001b[0m\u001b[1;33m-\u001b[0m\u001b[1;36m1\u001b[0m\u001b[1;33m]\u001b[0m\u001b[1;33m,\u001b[0m\u001b[1;34m\" and your roll number is \"\u001b[0m\u001b[1;33m,\u001b[0m\u001b[0mroll\u001b[0m\u001b[1;33m)\u001b[0m\u001b[1;33m\u001b[0m\u001b[1;33m\u001b[0m\u001b[0m\n\u001b[0m",
      "\u001b[1;31mIndexError\u001b[0m: list index out of range"
     ]
    }
   ],
   "source": [
    "#IndexError\n",
    "students= [\"Padma\",\"Priya\",\"Mesh\",\"Raji\",\"Thana\"]\n",
    "roll = int(input(\"Enter Roll number:\"))\n",
    "print(\"Your name is \",students[roll-1],\" and your roll number is \",roll)"
   ]
  },
  {
   "cell_type": "code",
   "execution_count": 5,
   "id": "b8a45e83",
   "metadata": {},
   "outputs": [
    {
     "ename": "ModuleNotFoundError",
     "evalue": "No module named 'abcdef'",
     "output_type": "error",
     "traceback": [
      "\u001b[1;31m---------------------------------------------------------------------------\u001b[0m",
      "\u001b[1;31mModuleNotFoundError\u001b[0m                       Traceback (most recent call last)",
      "\u001b[1;32m<ipython-input-5-cdde8466bc84>\u001b[0m in \u001b[0;36m<module>\u001b[1;34m\u001b[0m\n\u001b[0;32m      1\u001b[0m \u001b[1;31m#ModuleNotFoundError\u001b[0m\u001b[1;33m\u001b[0m\u001b[1;33m\u001b[0m\u001b[1;33m\u001b[0m\u001b[0m\n\u001b[1;32m----> 2\u001b[1;33m \u001b[1;32mimport\u001b[0m \u001b[0mabcdef\u001b[0m\u001b[1;33m\u001b[0m\u001b[1;33m\u001b[0m\u001b[0m\n\u001b[0m",
      "\u001b[1;31mModuleNotFoundError\u001b[0m: No module named 'abcdef'"
     ]
    }
   ],
   "source": [
    "#ModuleNotFoundError\n",
    "import abcdef"
   ]
  },
  {
   "cell_type": "code",
   "execution_count": 6,
   "id": "a54c169a",
   "metadata": {},
   "outputs": [
    {
     "ename": "KeyError",
     "evalue": "45",
     "output_type": "error",
     "traceback": [
      "\u001b[1;31m---------------------------------------------------------------------------\u001b[0m",
      "\u001b[1;31mKeyError\u001b[0m                                  Traceback (most recent call last)",
      "\u001b[1;32m<ipython-input-6-970e22ff2d18>\u001b[0m in \u001b[0;36m<module>\u001b[1;34m\u001b[0m\n\u001b[0;32m      2\u001b[0m \u001b[0mdict1\u001b[0m\u001b[1;33m=\u001b[0m\u001b[0mdict\u001b[0m\u001b[1;33m(\u001b[0m\u001b[1;33m)\u001b[0m\u001b[1;33m\u001b[0m\u001b[1;33m\u001b[0m\u001b[0m\n\u001b[0;32m      3\u001b[0m \u001b[0mdict1\u001b[0m\u001b[1;33m=\u001b[0m\u001b[1;33m{\u001b[0m\u001b[1;36m1\u001b[0m\u001b[1;33m:\u001b[0m\u001b[1;36m2\u001b[0m\u001b[1;33m,\u001b[0m\u001b[1;36m2\u001b[0m\u001b[1;33m:\u001b[0m\u001b[1;36m3\u001b[0m\u001b[1;33m,\u001b[0m\u001b[1;36m3\u001b[0m\u001b[1;33m:\u001b[0m\u001b[1;36m4\u001b[0m\u001b[1;33m,\u001b[0m\u001b[1;36m4\u001b[0m\u001b[1;33m:\u001b[0m\u001b[1;36m5\u001b[0m\u001b[1;33m}\u001b[0m\u001b[1;33m\u001b[0m\u001b[1;33m\u001b[0m\u001b[0m\n\u001b[1;32m----> 4\u001b[1;33m \u001b[0mprint\u001b[0m\u001b[1;33m(\u001b[0m\u001b[0mdict1\u001b[0m\u001b[1;33m[\u001b[0m\u001b[1;36m45\u001b[0m\u001b[1;33m]\u001b[0m\u001b[1;33m)\u001b[0m\u001b[1;33m\u001b[0m\u001b[1;33m\u001b[0m\u001b[0m\n\u001b[0m",
      "\u001b[1;31mKeyError\u001b[0m: 45"
     ]
    }
   ],
   "source": [
    "#KeyError\n",
    "dict1=dict()\n",
    "dict1={1:2,2:3,3:4,4:5}\n",
    "print(dict1[45])"
   ]
  },
  {
   "cell_type": "code",
   "execution_count": 7,
   "id": "d2e40d65",
   "metadata": {},
   "outputs": [
    {
     "ename": "ImportError",
     "evalue": "cannot import name 'p' from 'math' (unknown location)",
     "output_type": "error",
     "traceback": [
      "\u001b[1;31m---------------------------------------------------------------------------\u001b[0m",
      "\u001b[1;31mImportError\u001b[0m                               Traceback (most recent call last)",
      "\u001b[1;32m<ipython-input-7-ba6197763d37>\u001b[0m in \u001b[0;36m<module>\u001b[1;34m\u001b[0m\n\u001b[1;32m----> 1\u001b[1;33m \u001b[1;32mfrom\u001b[0m \u001b[0mmath\u001b[0m \u001b[1;32mimport\u001b[0m \u001b[0mp\u001b[0m\u001b[1;33m\u001b[0m\u001b[1;33m\u001b[0m\u001b[0m\n\u001b[0m",
      "\u001b[1;31mImportError\u001b[0m: cannot import name 'p' from 'math' (unknown location)"
     ]
    }
   ],
   "source": [
    "#ImportError\n",
    "from math import p"
   ]
  },
  {
   "cell_type": "code",
   "execution_count": 8,
   "id": "d64c2bbd",
   "metadata": {},
   "outputs": [
    {
     "ename": "ValueError",
     "evalue": "invalid literal for int() with base 10: 'Priya'",
     "output_type": "error",
     "traceback": [
      "\u001b[1;31m---------------------------------------------------------------------------\u001b[0m",
      "\u001b[1;31mValueError\u001b[0m                                Traceback (most recent call last)",
      "\u001b[1;32m<ipython-input-8-3e9acb34aaec>\u001b[0m in \u001b[0;36m<module>\u001b[1;34m\u001b[0m\n\u001b[0;32m      1\u001b[0m \u001b[1;31m#ValueError\u001b[0m\u001b[1;33m\u001b[0m\u001b[1;33m\u001b[0m\u001b[1;33m\u001b[0m\u001b[0m\n\u001b[1;32m----> 2\u001b[1;33m \u001b[0mint\u001b[0m\u001b[1;33m(\u001b[0m\u001b[1;34m\"Priya\"\u001b[0m\u001b[1;33m)\u001b[0m\u001b[1;33m\u001b[0m\u001b[1;33m\u001b[0m\u001b[0m\n\u001b[0m",
      "\u001b[1;31mValueError\u001b[0m: invalid literal for int() with base 10: 'Priya'"
     ]
    }
   ],
   "source": [
    "#ValueError\n",
    "int(\"Priya\")"
   ]
  },
  {
   "cell_type": "code",
   "execution_count": 9,
   "id": "a61ef2a8",
   "metadata": {},
   "outputs": [
    {
     "ename": "ZeroDivisionError",
     "evalue": "division by zero",
     "output_type": "error",
     "traceback": [
      "\u001b[1;31m---------------------------------------------------------------------------\u001b[0m",
      "\u001b[1;31mZeroDivisionError\u001b[0m                         Traceback (most recent call last)",
      "\u001b[1;32m<ipython-input-9-11e56b860043>\u001b[0m in \u001b[0;36m<module>\u001b[1;34m\u001b[0m\n\u001b[0;32m      1\u001b[0m \u001b[1;31m#ZeroDivisionError\u001b[0m\u001b[1;33m\u001b[0m\u001b[1;33m\u001b[0m\u001b[1;33m\u001b[0m\u001b[0m\n\u001b[0;32m      2\u001b[0m \u001b[0ma\u001b[0m\u001b[1;33m=\u001b[0m\u001b[1;36m10\u001b[0m\u001b[1;33m\u001b[0m\u001b[1;33m\u001b[0m\u001b[0m\n\u001b[1;32m----> 3\u001b[1;33m \u001b[0ma\u001b[0m\u001b[1;33m/\u001b[0m\u001b[1;36m0\u001b[0m\u001b[1;33m\u001b[0m\u001b[1;33m\u001b[0m\u001b[0m\n\u001b[0m",
      "\u001b[1;31mZeroDivisionError\u001b[0m: division by zero"
     ]
    }
   ],
   "source": [
    "#ZeroDivisionError\n",
    "a=10\n",
    "a/0"
   ]
  },
  {
   "cell_type": "code",
   "execution_count": 10,
   "id": "27002644",
   "metadata": {},
   "outputs": [
    {
     "name": "stdout",
     "output_type": "stream",
     "text": [
      "Enter the first number: 12\n",
      "Enter the second number: 13\n",
      "Choose a number \n",
      " Enter 1 for Addition \n",
      " Enter 2 for Subtraction \n",
      " Enter 3 for Multiplication \n",
      " Enter 4 for Division \n",
      " Enter 5 for Exponent\n",
      "Select the operation: g\n",
      "invalid literal for int() with base 10: 'g'\n"
     ]
    }
   ],
   "source": [
    "#Design a simple calculator app with try and except for all use cases\n",
    "try:\n",
    "    first_num=eval(input(\"Enter the first number: \"))\n",
    "    sec_num=eval(input(\"Enter the second number: \"))\n",
    "    print(\"Choose a number\",\"\\n\",\"Enter 1 for Addition\",\"\\n\",\"Enter 2 for Subtraction\",\"\\n\",\"Enter 3 for Multiplication\",\"\\n\",\"Enter 4 for Division\",\"\\n\",\"Enter 5 for Exponent\")\n",
    "    oper=int(input(\"Select the operation: \"))\n",
    "    if oper==1:\n",
    "        print(first_num+sec_num)\n",
    "    elif oper==2:\n",
    "        print(first_num-sec_num)\n",
    "    elif oper==3:\n",
    "        print(first_num*sec_num)\n",
    "    elif oper==4:\n",
    "        print(round((first_num/sec_num),2))\n",
    "    elif oper==5:\n",
    "        print(first_num**sec_num)\n",
    "    else:\n",
    "        print(\"Enter a valid choice\")\n",
    "except Exception as e:\n",
    "    print(e)"
   ]
  },
  {
   "cell_type": "code",
   "execution_count": 11,
   "id": "88688127",
   "metadata": {},
   "outputs": [
    {
     "name": "stdout",
     "output_type": "stream",
     "text": [
      "name 'calc_su' is not defined\n"
     ]
    }
   ],
   "source": [
    "#Print one message if the try block raises a NameError and another for other errors\n",
    "try:\n",
    "    def calc_sum(x,y):\n",
    "        op = x + y\n",
    "        return(op)\n",
    "    ss = calc_su(5,10)\n",
    "    print(ss)\n",
    "except NameError as e:\n",
    "    print(e)\n",
    "except Exception as ec:\n",
    "    print(ec)"
   ]
  },
  {
   "cell_type": "code",
   "execution_count": 12,
   "id": "743e4f1e",
   "metadata": {},
   "outputs": [
    {
     "name": "stdout",
     "output_type": "stream",
     "text": [
      "Please enter a number:\n",
      "two\n",
      "You entered an invalid number.\n"
     ]
    }
   ],
   "source": [
    "#Try getting an input inside the try catch block\n",
    "try:\n",
    "    x = int(input('Please enter a number:\\n'))\n",
    "    print(x)\n",
    "except:\n",
    "    print(f'You entered an invalid number.') "
   ]
  },
  {
   "cell_type": "code",
   "execution_count": null,
   "id": "2b8935a1",
   "metadata": {},
   "outputs": [],
   "source": [
    "#When try-except scenario is not required?\n",
    "    #The idea of the try-except clause is to handle exceptions (errors at runtime). When there is no exception the try clause will only run. In such cases try-except scenario is not required."
   ]
  }
 ],
 "metadata": {
  "kernelspec": {
   "display_name": "Python 3",
   "language": "python",
   "name": "python3"
  },
  "language_info": {
   "codemirror_mode": {
    "name": "ipython",
    "version": 3
   },
   "file_extension": ".py",
   "mimetype": "text/x-python",
   "name": "python",
   "nbconvert_exporter": "python",
   "pygments_lexer": "ipython3",
   "version": "3.9.5"
  }
 },
 "nbformat": 4,
 "nbformat_minor": 5
}
