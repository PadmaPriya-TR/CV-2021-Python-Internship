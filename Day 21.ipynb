{
 "cells": [
  {
   "cell_type": "markdown",
   "id": "23f635a6",
   "metadata": {},
   "source": [
    "# Write a program using zip() function and list() function, create a merged list of tuples from the two lists given"
   ]
  },
  {
   "cell_type": "code",
   "execution_count": 1,
   "id": "d169cfcb",
   "metadata": {},
   "outputs": [
    {
     "name": "stdout",
     "output_type": "stream",
     "text": [
      "[(65, 'Priya'), (35, 'Thana'), (45, 'Raji')]\n"
     ]
    }
   ],
   "source": [
    "def Tuples(l1, l2):\n",
    "    return list(map(lambda x, y:(x,y), l1, l2))\n",
    "list1 = [65, 35, 45]\n",
    "list2 = [\"Priya\", \"Thana\", \"Raji\"]\n",
    "print(Tuples(list1, list2))"
   ]
  },
  {
   "cell_type": "code",
   "execution_count": 3,
   "id": "e3d19cd4",
   "metadata": {},
   "outputs": [
    {
     "name": "stdout",
     "output_type": "stream",
     "text": [
      "[(65, 'Priya'), (35, 'Thana'), (45, 'Raji')]\n"
     ]
    }
   ],
   "source": [
    "def merge_list(list1, list2):      \n",
    "    merged_list = list(zip(list1, list2)) \n",
    "    return merged_list\n",
    "list1 = [65, 35, 45]\n",
    "list2 = [\"Priya\", \"Thana\", \"Raji\"]\n",
    "print(merge_list(list1, list2))"
   ]
  },
  {
   "cell_type": "markdown",
   "id": "48bc11f9",
   "metadata": {},
   "source": [
    "# First create a range from 1 to 8. Then using zip, merge the given list and the range together to create a new list of tuples."
   ]
  },
  {
   "cell_type": "code",
   "execution_count": 4,
   "id": "7e51f81b",
   "metadata": {},
   "outputs": [
    {
     "name": "stdout",
     "output_type": "stream",
     "text": [
      "((65, 'Priya'), (35, 'Thana'), (45, 'Raji'))\n"
     ]
    }
   ],
   "source": [
    "list3=[1,2,3,4,5,6,7,8]\n",
    "list4=['Mesh','Raji','Thana','Sudha','Priya','Padma','Karthi','Ganesh']\n",
    "result =tuple(zip(list1,list2))\n",
    "print(result)"
   ]
  },
  {
   "cell_type": "markdown",
   "id": "22f31e0a",
   "metadata": {},
   "source": [
    "# Using sorted() function, sort the list in ascending order. "
   ]
  },
  {
   "cell_type": "code",
   "execution_count": 5,
   "id": "defcf97b",
   "metadata": {},
   "outputs": [
    {
     "name": "stdout",
     "output_type": "stream",
     "text": [
      "[5334, 22352, 32522, 44655, 64344, 88325, 725328]\n"
     ]
    }
   ],
   "source": [
    "list5=[5334,44655,64344,32522,725328,88325,22352]\n",
    "print(sorted(list5))"
   ]
  },
  {
   "cell_type": "markdown",
   "id": "c85c66d0",
   "metadata": {},
   "source": [
    "# Write a program using filter function, filter the even numbers so that only odd numbers are passed to the new list."
   ]
  },
  {
   "cell_type": "code",
   "execution_count": 6,
   "id": "2a6b9b1c",
   "metadata": {},
   "outputs": [
    {
     "name": "stdout",
     "output_type": "stream",
     "text": [
      "2323\n",
      "1321\n",
      "21237\n",
      "3355\n",
      "36325\n"
     ]
    }
   ],
   "source": [
    "def filter_num(num):\n",
    "    if num%2 !=0:\n",
    "        return True\n",
    "    else :\n",
    "        return False\n",
    "numbers =[2323,1321,12344,33434,23422,25214,26546,21237,231528,231534,3355,36325]\n",
    "result=filter(filter_num,numbers)\n",
    "for i in result:\n",
    "    print(i)"
   ]
  }
 ],
 "metadata": {
  "kernelspec": {
   "display_name": "Python 3",
   "language": "python",
   "name": "python3"
  },
  "language_info": {
   "codemirror_mode": {
    "name": "ipython",
    "version": 3
   },
   "file_extension": ".py",
   "mimetype": "text/x-python",
   "name": "python",
   "nbconvert_exporter": "python",
   "pygments_lexer": "ipython3",
   "version": "3.9.5"
  }
 },
 "nbformat": 4,
 "nbformat_minor": 5
}
