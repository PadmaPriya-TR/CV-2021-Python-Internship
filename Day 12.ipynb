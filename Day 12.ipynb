{
 "cells": [
  {
   "cell_type": "code",
   "execution_count": 1,
   "id": "bd577002",
   "metadata": {},
   "outputs": [],
   "source": [
    "#Create and Writing in a file\n",
    "f=open(r\"30_days_30_hours_operations.txt\",\"w+\")"
   ]
  },
  {
   "cell_type": "code",
   "execution_count": 2,
   "id": "f76eaa71",
   "metadata": {},
   "outputs": [
    {
     "data": {
      "text/plain": [
       "37"
      ]
     },
     "execution_count": 2,
     "metadata": {},
     "output_type": "execute_result"
    }
   ],
   "source": [
    "#Write data in it I have completed 10 days successfully\n",
    "f.write(\"I have completed 10 days successfully\")"
   ]
  },
  {
   "cell_type": "code",
   "execution_count": 3,
   "id": "3297d232",
   "metadata": {},
   "outputs": [],
   "source": [
    "#Appending the data your name into it\n",
    "f1=open(r\"30_days_30_hours_operations.txt\",\"a+\")\n",
    "f1.writelines(\"Padma Priya T R\")"
   ]
  },
  {
   "cell_type": "code",
   "execution_count": 4,
   "id": "fcef72ed",
   "metadata": {},
   "outputs": [],
   "source": [
    "#Close the file\n",
    "f.close()\n",
    "f.close()"
   ]
  }
 ],
 "metadata": {
  "kernelspec": {
   "display_name": "Python 3",
   "language": "python",
   "name": "python3"
  },
  "language_info": {
   "codemirror_mode": {
    "name": "ipython",
    "version": 3
   },
   "file_extension": ".py",
   "mimetype": "text/x-python",
   "name": "python",
   "nbconvert_exporter": "python",
   "pygments_lexer": "ipython3",
   "version": "3.9.5"
  }
 },
 "nbformat": 4,
 "nbformat_minor": 5
}
