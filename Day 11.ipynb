{
 "cells": [
  {
   "cell_type": "code",
   "execution_count": 1,
   "id": "7719d33a",
   "metadata": {},
   "outputs": [
    {
     "name": "stdout",
     "output_type": "stream",
     "text": [
      "['Padma', 'Priya', 'Mesh', 'Raji']\n"
     ]
    }
   ],
   "source": [
    "#Create a python module with list and import the module in another .py file and change the value in it\n",
    "import Day11_Mymodule\n",
    "print(Day11_Mymodule.List1)"
   ]
  },
  {
   "cell_type": "code",
   "execution_count": 2,
   "id": "6b6a129b",
   "metadata": {},
   "outputs": [
    {
     "name": "stdout",
     "output_type": "stream",
     "text": [
      "['Padma', 'Thana', 'Mesh', 'Raji']\n"
     ]
    }
   ],
   "source": [
    "Day11_Mymodule.List1[1]=\"Thana\"\n",
    "print(Day11_Mymodule.List1)"
   ]
  },
  {
   "cell_type": "code",
   "execution_count": 5,
   "id": "a1d448fb",
   "metadata": {},
   "outputs": [
    {
     "name": "stdout",
     "output_type": "stream",
     "text": [
      "Requirement already satisfied: pandas in c:\\users\\hp\\appdata\\local\\programs\\python\\python39\\lib\\site-packages (1.2.5)\n",
      "Requirement already satisfied: pytz>=2017.3 in c:\\users\\hp\\appdata\\local\\programs\\python\\python39\\lib\\site-packages (from pandas) (2021.1)\n",
      "Requirement already satisfied: python-dateutil>=2.7.3 in c:\\users\\hp\\appdata\\local\\programs\\python\\python39\\lib\\site-packages (from pandas) (2.8.1)\n",
      "Requirement already satisfied: numpy>=1.16.5 in c:\\users\\hp\\appdata\\local\\programs\\python\\python39\\lib\\site-packages (from pandas) (1.21.0)\n",
      "Requirement already satisfied: six>=1.5 in c:\\users\\hp\\appdata\\local\\programs\\python\\python39\\lib\\site-packages (from python-dateutil>=2.7.3->pandas) (1.16.0)\n",
      "Note: you may need to restart the kernel to use updated packages.\n"
     ]
    },
    {
     "name": "stderr",
     "output_type": "stream",
     "text": [
      "WARNING: You are using pip version 21.1.1; however, version 21.1.2 is available.\n",
      "You should consider upgrading via the 'c:\\users\\hp\\appdata\\local\\programs\\python\\python39\\python.exe -m pip install --upgrade pip' command.\n"
     ]
    }
   ],
   "source": [
    "#install pandas package(try to import the package in a python file)\n",
    "pip install pandas"
   ]
  },
  {
   "cell_type": "code",
   "execution_count": 6,
   "id": "a069df6f",
   "metadata": {},
   "outputs": [
    {
     "name": "stdout",
     "output_type": "stream",
     "text": [
      "Sum is 20\n",
      "Mean is 4.0\n"
     ]
    }
   ],
   "source": [
    "import pandas as pd\n",
    "List3=[2,3,4,5,6]\n",
    "series=pd.Series(List3)\n",
    "print(\"Sum is\",series.sum())\n",
    "print(\"Mean is\",series.mean())"
   ]
  },
  {
   "cell_type": "code",
   "execution_count": 7,
   "id": "8c77de12",
   "metadata": {},
   "outputs": [
    {
     "data": {
      "text/plain": [
       "51"
      ]
     },
     "execution_count": 7,
     "metadata": {},
     "output_type": "execute_result"
    }
   ],
   "source": [
    "#import a module that picks random number and write a program to fetch a random number from 1 to 100 on every run.\n",
    "import numpy as np\n",
    "np.random.randint(low=1,high=100)"
   ]
  },
  {
   "cell_type": "code",
   "execution_count": 8,
   "id": "a3b76511",
   "metadata": {},
   "outputs": [
    {
     "data": {
      "text/plain": [
       "49"
      ]
     },
     "execution_count": 8,
     "metadata": {},
     "output_type": "execute_result"
    }
   ],
   "source": [
    "np.random.randint(low=1,high=100)"
   ]
  },
  {
   "cell_type": "code",
   "execution_count": 9,
   "id": "ea33a3a6",
   "metadata": {},
   "outputs": [
    {
     "data": {
      "text/plain": [
       "12"
      ]
     },
     "execution_count": 9,
     "metadata": {},
     "output_type": "execute_result"
    }
   ],
   "source": [
    "np.random.randint(low=1,high=100)"
   ]
  },
  {
   "cell_type": "code",
   "execution_count": 10,
   "id": "17081ce7",
   "metadata": {},
   "outputs": [
    {
     "data": {
      "text/plain": [
       "96"
      ]
     },
     "execution_count": 10,
     "metadata": {},
     "output_type": "execute_result"
    }
   ],
   "source": [
    "np.random.randint(low=1,high=100)"
   ]
  },
  {
   "cell_type": "code",
   "execution_count": 11,
   "id": "720744f3",
   "metadata": {},
   "outputs": [
    {
     "data": {
      "text/plain": [
       "['C:\\\\Users\\\\hp\\\\Desktop\\\\Day11_Mymodule',\n",
       " 'c:\\\\users\\\\hp\\\\appdata\\\\local\\\\programs\\\\python\\\\python39\\\\python39.zip',\n",
       " 'c:\\\\users\\\\hp\\\\appdata\\\\local\\\\programs\\\\python\\\\python39\\\\DLLs',\n",
       " 'c:\\\\users\\\\hp\\\\appdata\\\\local\\\\programs\\\\python\\\\python39\\\\lib',\n",
       " 'c:\\\\users\\\\hp\\\\appdata\\\\local\\\\programs\\\\python\\\\python39',\n",
       " '',\n",
       " 'c:\\\\users\\\\hp\\\\appdata\\\\local\\\\programs\\\\python\\\\python39\\\\lib\\\\site-packages',\n",
       " 'c:\\\\users\\\\hp\\\\appdata\\\\local\\\\programs\\\\python\\\\python39\\\\lib\\\\site-packages\\\\win32',\n",
       " 'c:\\\\users\\\\hp\\\\appdata\\\\local\\\\programs\\\\python\\\\python39\\\\lib\\\\site-packages\\\\win32\\\\lib',\n",
       " 'c:\\\\users\\\\hp\\\\appdata\\\\local\\\\programs\\\\python\\\\python39\\\\lib\\\\site-packages\\\\Pythonwin',\n",
       " 'c:\\\\users\\\\hp\\\\appdata\\\\local\\\\programs\\\\python\\\\python39\\\\lib\\\\site-packages\\\\IPython\\\\extensions',\n",
       " 'C:\\\\Users\\\\hp\\\\.ipython']"
      ]
     },
     "execution_count": 11,
     "metadata": {},
     "output_type": "execute_result"
    }
   ],
   "source": [
    "#Import sys package and find the python path\n",
    "import sys\n",
    "sys.path"
   ]
  },
  {
   "cell_type": "code",
   "execution_count": 12,
   "id": "872fb06d",
   "metadata": {},
   "outputs": [
    {
     "data": {
      "text/plain": [
       "'3.9.5 (tags/v3.9.5:0a7dcbd, May  3 2021, 17:27:52) [MSC v.1928 64 bit (AMD64)]'"
      ]
     },
     "execution_count": 12,
     "metadata": {},
     "output_type": "execute_result"
    }
   ],
   "source": [
    "sys.version"
   ]
  },
  {
   "cell_type": "code",
   "execution_count": 13,
   "id": "574270e0",
   "metadata": {},
   "outputs": [
    {
     "data": {
      "text/plain": [
       "9223372036854775807"
      ]
     },
     "execution_count": 13,
     "metadata": {},
     "output_type": "execute_result"
    }
   ],
   "source": [
    "sys.maxsize"
   ]
  },
  {
   "cell_type": "code",
   "execution_count": 22,
   "id": "58969d41",
   "metadata": {},
   "outputs": [
    {
     "name": "stdout",
     "output_type": "stream",
     "text": [
      "Collecting PyGame\n",
      "  Downloading pygame-2.0.1-cp39-cp39-win_amd64.whl (5.2 MB)\n",
      "Installing collected packages: PyGame\n",
      "Successfully installed PyGame-2.0.1\n",
      "Note: you may need to restart the kernel to use updated packages.\n"
     ]
    },
    {
     "name": "stderr",
     "output_type": "stream",
     "text": [
      "WARNING: You are using pip version 21.1.1; however, version 21.1.2 is available.\n",
      "You should consider upgrading via the 'c:\\users\\hp\\appdata\\local\\programs\\python\\python39\\python.exe -m pip install --upgrade pip' command.\n"
     ]
    }
   ],
   "source": [
    "#Try to install a package and uninstall a package using pip\n",
    "pip install PyGame"
   ]
  },
  {
   "cell_type": "code",
   "execution_count": null,
   "id": "645b7886",
   "metadata": {},
   "outputs": [],
   "source": [
    "pip uninstall PyGame"
   ]
  },
  {
   "cell_type": "code",
   "execution_count": null,
   "id": "63764196",
   "metadata": {},
   "outputs": [],
   "source": []
  }
 ],
 "metadata": {
  "kernelspec": {
   "display_name": "Python 3",
   "language": "python",
   "name": "python3"
  },
  "language_info": {
   "codemirror_mode": {
    "name": "ipython",
    "version": 3
   },
   "file_extension": ".py",
   "mimetype": "text/x-python",
   "name": "python",
   "nbconvert_exporter": "python",
   "pygments_lexer": "ipython3",
   "version": "3.9.5"
  }
 },
 "nbformat": 4,
 "nbformat_minor": 5
}
