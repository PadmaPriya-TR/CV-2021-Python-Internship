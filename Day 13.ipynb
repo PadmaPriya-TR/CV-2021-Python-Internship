{
 "cells": [
  {
   "cell_type": "code",
   "execution_count": 1,
   "id": "0993b168",
   "metadata": {},
   "outputs": [
    {
     "name": "stdout",
     "output_type": "stream",
     "text": [
      "True\n",
      "False\n"
     ]
    }
   ],
   "source": [
    "#Write a Python Program for all the cases which can check a string a contains only a certain set of characters\n",
    "import re\n",
    "def iasc(string):\n",
    "    char=re.compile(r'[^a-zA-Z0-9.]')\n",
    "    string=char.search(string)\n",
    "    return not bool(string)\n",
    "string=\"uwdgaunhnygf64345\"\n",
    "print(iasc(string))\n",
    "print(iasc(\"s$%&*()@$\"))"
   ]
  },
  {
   "cell_type": "code",
   "execution_count": 2,
   "id": "00d3e242",
   "metadata": {},
   "outputs": [
    {
     "name": "stdout",
     "output_type": "stream",
     "text": [
      "Enter the text I am Padma Priya\n",
      "Not matched!\n",
      "Found a match!\n"
     ]
    }
   ],
   "source": [
    "#Write a python program that matches a word containing 'ab'\n",
    "def match(text):\n",
    "    patterns='\\w*ab.\\w*'\n",
    "    if re.search(patterns,text):\n",
    "        return \"Found a match!\"\n",
    "    else:\n",
    "        return \"Not matched!\"\n",
    "text=input(\"Enter the text\")\n",
    "print(match(text))\n",
    "print(match(\"abcde\"))"
   ]
  },
  {
   "cell_type": "code",
   "execution_count": 3,
   "id": "3b4dc6ab",
   "metadata": {},
   "outputs": [
    {
     "name": "stdout",
     "output_type": "stream",
     "text": [
      "Enter the wordajnvjg3\n",
      "True\n",
      "True\n",
      "False\n"
     ]
    }
   ],
   "source": [
    "#Write a Python program to check for a number at the end of a word/sentence\n",
    "def check_end(string):\n",
    "    text=re.compile(r\".*[0-9]$\")\n",
    "    if text.match(string):\n",
    "        return True\n",
    "    else:\n",
    "        return False\n",
    "string=input(\"Enter the word\")\n",
    "print(check_end(string))\n",
    "print(check_end(\"i1435\"))\n",
    "print(check_end(\"padma\"))"
   ]
  },
  {
   "cell_type": "code",
   "execution_count": 4,
   "id": "1d886322",
   "metadata": {},
   "outputs": [
    {
     "name": "stdout",
     "output_type": "stream",
     "text": [
      "Number of length 1 to 3\n",
      "1\n",
      "13\n",
      "22\n",
      "430\n"
     ]
    }
   ],
   "source": [
    "# Write a python program to search the given number (0-9) of length between 1 to 3 in a given string\n",
    "result=re.finditer(r\"([0-9]{1,3})\", \"Exercices number 1, 13, 22,and 430 are important\")\n",
    "print(\"Number of length 1 to 3\")\n",
    "for n in result:\n",
    "    print(n.group(0))"
   ]
  },
  {
   "cell_type": "code",
   "execution_count": 5,
   "id": "0587edf4",
   "metadata": {},
   "outputs": [
    {
     "name": "stdout",
     "output_type": "stream",
     "text": [
      "Found a match!\n",
      "Not matched!\n"
     ]
    }
   ],
   "source": [
    "#Write a python program to match a string that contains only uppercase letters\n",
    "def upper_case(text):\n",
    "    if(bool(re.match('^[A-Z]+$',text)))==True:\n",
    "        return \"Found a match!\"\n",
    "    else:\n",
    "        return \"Not matched!\"\n",
    "print(upper_case(\"ABCDE\"))\n",
    "print(upper_case(\"abcdef\"))\n",
    "        "
   ]
  }
 ],
 "metadata": {
  "kernelspec": {
   "display_name": "Python 3",
   "language": "python",
   "name": "python3"
  },
  "language_info": {
   "codemirror_mode": {
    "name": "ipython",
    "version": 3
   },
   "file_extension": ".py",
   "mimetype": "text/x-python",
   "name": "python",
   "nbconvert_exporter": "python",
   "pygments_lexer": "ipython3",
   "version": "3.9.5"
  }
 },
 "nbformat": 4,
 "nbformat_minor": 5
}
