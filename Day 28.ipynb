{
 "cells": [
  {
   "cell_type": "markdown",
   "id": "6e5a08e6",
   "metadata": {},
   "source": [
    "# Write a Python Multithreading program to print current date"
   ]
  },
  {
   "cell_type": "code",
   "execution_count": 1,
   "id": "71a41b4a",
   "metadata": {},
   "outputs": [],
   "source": [
    "import threading\n",
    "import time"
   ]
  },
  {
   "cell_type": "code",
   "execution_count": 5,
   "id": "7da88bba",
   "metadata": {},
   "outputs": [],
   "source": [
    "exitFlag = 0\n",
    "class myThread (threading.Thread):\n",
    "    def __init__(self, threadID, name, counter):\n",
    "        threading.Thread.__init__(self)\n",
    "        self.threadID = threadID\n",
    "        self.name = name\n",
    "        self.counter = counter\n",
    "    def run(self):\n",
    "        print(\"Starting \" + self.name)\n",
    "        print_time(self.name, 5, self.counter)\n",
    "        print(\"Exiting \" + self.name)\n",
    "def print_time(threadName, counter, delay):\n",
    "    while counter:\n",
    "        if exitFlag:\n",
    "            threadName.exit()\n",
    "        time.sleep(delay)\n",
    "        print(\"%s: %s\" % (threadName, time.ctime(time.time())))\n",
    "        counter -= 1"
   ]
  },
  {
   "cell_type": "code",
   "execution_count": 6,
   "id": "9256ee28",
   "metadata": {},
   "outputs": [
    {
     "name": "stdout",
     "output_type": "stream",
     "text": [
      "Starting Thread-1\n",
      "Starting Thread-2Exiting Main Thread\n",
      "\n",
      "Thread-1: Tue Jul 13 20:51:06 2021\n",
      "Thread-2: Tue Jul 13 20:51:07 2021Thread-1: Tue Jul 13 20:51:07 2021\n",
      "\n",
      "Thread-1: Tue Jul 13 20:51:08 2021\n",
      "Thread-2: Tue Jul 13 20:51:09 2021\n",
      "Thread-1: Tue Jul 13 20:51:09 2021\n",
      "Thread-1: Tue Jul 13 20:51:10 2021\n",
      "Exiting Thread-1\n",
      "Thread-2: Tue Jul 13 20:51:11 2021\n",
      "Thread-2: Tue Jul 13 20:51:13 2021\n",
      "Thread-2: Tue Jul 13 20:51:15 2021\n",
      "Exiting Thread-2\n"
     ]
    }
   ],
   "source": [
    "thread1 = myThread(1, \"Thread-1\", 1)\n",
    "thread2 = myThread(2, \"Thread-2\", 2)\n",
    "thread1.start()\n",
    "thread2.start()\n",
    "print(\"Exiting Main Thread\")"
   ]
  }
 ],
 "metadata": {
  "kernelspec": {
   "display_name": "Python 3",
   "language": "python",
   "name": "python3"
  },
  "language_info": {
   "codemirror_mode": {
    "name": "ipython",
    "version": 3
   },
   "file_extension": ".py",
   "mimetype": "text/x-python",
   "name": "python",
   "nbconvert_exporter": "python",
   "pygments_lexer": "ipython3",
   "version": "3.9.5"
  }
 },
 "nbformat": 4,
 "nbformat_minor": 5
}
