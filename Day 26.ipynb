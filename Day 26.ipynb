{
 "cells": [
  {
   "cell_type": "markdown",
   "id": "96e6d5fa",
   "metadata": {},
   "source": [
    "# Enumerate a python list and try to print the counter with the list value "
   ]
  },
  {
   "cell_type": "code",
   "execution_count": 1,
   "id": "3f450c3d",
   "metadata": {},
   "outputs": [
    {
     "name": "stdout",
     "output_type": "stream",
     "text": [
      "[(0, 'Thana'), (1, 'Raji'), (2, 'Padma'), (3, 'Priya'), (4, 'Mesh'), (5, 'Ganesh'), (6, 'Sudha')]\n"
     ]
    }
   ],
   "source": [
    "List1=[\"Thana\",\"Raji\",\"Padma\",\"Priya\",\"Mesh\",\"Ganesh\",\"Sudha\"]\n",
    "print(list(enumerate(List1)))"
   ]
  },
  {
   "cell_type": "code",
   "execution_count": 2,
   "id": "57b54acc",
   "metadata": {},
   "outputs": [
    {
     "name": "stdout",
     "output_type": "stream",
     "text": [
      "<enumerate object at 0x000001C6330B0780>\n"
     ]
    }
   ],
   "source": [
    "print(enumerate(List1))"
   ]
  },
  {
   "cell_type": "markdown",
   "id": "4b539cc5",
   "metadata": {},
   "source": [
    "# Enumerate a python tuple and try to print the counter with the tuple value"
   ]
  },
  {
   "cell_type": "code",
   "execution_count": 3,
   "id": "8903a1ab",
   "metadata": {},
   "outputs": [
    {
     "name": "stdout",
     "output_type": "stream",
     "text": [
      "((0, 'Thana'), (1, 'Raji'), (2, 'Padma'), (3, 'Priya'), (4, 'Mesh'), (5, 'Ganesh'), (6, 'Sudha'))\n"
     ]
    }
   ],
   "source": [
    "Tuple1=(\"Thana\",\"Raji\",\"Padma\",\"Priya\",\"Mesh\",\"Ganesh\",\"Sudha\")\n",
    "print(tuple(enumerate(Tuple1)))"
   ]
  },
  {
   "cell_type": "code",
   "execution_count": 4,
   "id": "212e1570",
   "metadata": {},
   "outputs": [
    {
     "name": "stdout",
     "output_type": "stream",
     "text": [
      "<enumerate object at 0x000001C6330B07C0>\n"
     ]
    }
   ],
   "source": [
    "print(enumerate(Tuple1))"
   ]
  },
  {
   "cell_type": "code",
   "execution_count": null,
   "id": "07ccddda",
   "metadata": {},
   "outputs": [],
   "source": []
  }
 ],
 "metadata": {
  "kernelspec": {
   "display_name": "Python 3",
   "language": "python",
   "name": "python3"
  },
  "language_info": {
   "codemirror_mode": {
    "name": "ipython",
    "version": 3
   },
   "file_extension": ".py",
   "mimetype": "text/x-python",
   "name": "python",
   "nbconvert_exporter": "python",
   "pygments_lexer": "ipython3",
   "version": "3.9.5"
  }
 },
 "nbformat": 4,
 "nbformat_minor": 5
}
