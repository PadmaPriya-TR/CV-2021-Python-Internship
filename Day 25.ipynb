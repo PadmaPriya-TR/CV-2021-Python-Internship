{
 "cells": [
  {
   "cell_type": "markdown",
   "id": "bb1044f9",
   "metadata": {},
   "source": [
    "# Write a Python program to convert a string to datetime"
   ]
  },
  {
   "cell_type": "code",
   "execution_count": 1,
   "id": "c65b4aaa",
   "metadata": {},
   "outputs": [],
   "source": [
    "import datetime"
   ]
  },
  {
   "cell_type": "code",
   "execution_count": 2,
   "id": "ac43898a",
   "metadata": {},
   "outputs": [
    {
     "name": "stdout",
     "output_type": "stream",
     "text": [
      "2021-07-06 13:05:00\n"
     ]
    }
   ],
   "source": [
    "def convert(date_time):\n",
    "    format = '%b %d %Y %I:%M%p' # The format\n",
    "    datetime_str = datetime.datetime.strptime(date_time, format)\n",
    "    return datetime_str\n",
    "date_time = 'Jul 06 2021 01:05PM'\n",
    "print(convert(date_time))"
   ]
  },
  {
   "cell_type": "markdown",
   "id": "cf089e35",
   "metadata": {},
   "source": [
    "# Write a Python program to subtract five days (last working day) from current date "
   ]
  },
  {
   "cell_type": "code",
   "execution_count": 3,
   "id": "6845a14a",
   "metadata": {},
   "outputs": [
    {
     "name": "stdout",
     "output_type": "stream",
     "text": [
      "Current Date : 2021-07-09\n",
      "5 days before Current Date  is : 2021-07-04\n"
     ]
    }
   ],
   "source": [
    "from datetime import date, timedelta\n",
    "delta = date.today() - timedelta(5)\n",
    "print('Current Date :',date.today())\n",
    "print('5 days before Current Date  is :',delta)"
   ]
  },
  {
   "cell_type": "markdown",
   "id": "4d14f399",
   "metadata": {},
   "source": [
    "#  Write a Python program to convert the date to datetime using a function"
   ]
  },
  {
   "cell_type": "code",
   "execution_count": 4,
   "id": "7af247a1",
   "metadata": {},
   "outputs": [
    {
     "name": "stdout",
     "output_type": "stream",
     "text": [
      "2021-07-09 00:00:00\n"
     ]
    }
   ],
   "source": [
    "from datetime import datetime\n",
    "dt = date.today()\n",
    "print(datetime.combine(dt, datetime.min.time()))"
   ]
  },
  {
   "cell_type": "markdown",
   "id": "cce7fdd0",
   "metadata": {},
   "source": [
    "# Write a Python program to print next 7 days (week) starting from today"
   ]
  },
  {
   "cell_type": "code",
   "execution_count": 5,
   "id": "591fb17e",
   "metadata": {},
   "outputs": [
    {
     "name": "stdout",
     "output_type": "stream",
     "text": [
      "2021-07-09 19:49:50.285858\n",
      "2021-07-10 19:49:50.285858\n",
      "2021-07-11 19:49:50.285858\n",
      "2021-07-12 19:49:50.285858\n",
      "2021-07-13 19:49:50.285858\n",
      "2021-07-14 19:49:50.285858\n",
      "2021-07-15 19:49:50.285858\n"
     ]
    }
   ],
   "source": [
    "import datetime\n",
    "base = datetime.datetime.today()\n",
    "for x in range(0, 7):\n",
    "    print(base + datetime.timedelta(days=x))"
   ]
  },
  {
   "cell_type": "code",
   "execution_count": null,
   "id": "ab460e7e",
   "metadata": {},
   "outputs": [],
   "source": []
  }
 ],
 "metadata": {
  "kernelspec": {
   "display_name": "Python 3",
   "language": "python",
   "name": "python3"
  },
  "language_info": {
   "codemirror_mode": {
    "name": "ipython",
    "version": 3
   },
   "file_extension": ".py",
   "mimetype": "text/x-python",
   "name": "python",
   "nbconvert_exporter": "python",
   "pygments_lexer": "ipython3",
   "version": "3.9.5"
  }
 },
 "nbformat": 4,
 "nbformat_minor": 5
}
