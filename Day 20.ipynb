{
 "cells": [
  {
   "cell_type": "markdown",
   "id": "c6e8963b",
   "metadata": {},
   "source": [
    "# Day 20"
   ]
  },
  {
   "cell_type": "code",
   "execution_count": 1,
   "id": "cca93247",
   "metadata": {},
   "outputs": [
    {
     "name": "stdout",
     "output_type": "stream",
     "text": [
      "<mysql.connector.connection_cext.CMySQLConnection object at 0x0000029E058D5E20>\n"
     ]
    }
   ],
   "source": [
    "import mysql.connector\n",
    "mydb=mysql.connector.connect(host=\"localhost\",user=\"root\",password=\"12345\")\n",
    "cur=mydb.cursor()\n",
    "print(mydb)"
   ]
  },
  {
   "cell_type": "code",
   "execution_count": 2,
   "id": "cde91ee3",
   "metadata": {},
   "outputs": [],
   "source": [
    "cur=mydb.cursor()\n",
    "cur.execute(\"CREATE DATABASE Employee_Details\")"
   ]
  },
  {
   "cell_type": "code",
   "execution_count": 7,
   "id": "1ca701ed",
   "metadata": {},
   "outputs": [
    {
     "name": "stdout",
     "output_type": "stream",
     "text": [
      "('doctors',)\n",
      "('employee_details',)\n",
      "('information_schema',)\n",
      "('mydatabase',)\n",
      "('mysql',)\n",
      "('performance_schema',)\n",
      "('students_management_system',)\n",
      "('sys',)\n"
     ]
    }
   ],
   "source": [
    "dbse=mydb.cursor()\n",
    "dbse.execute(\"SHOW DATABASES\")\n",
    "for entry in dbse:\n",
    "    print(entry)"
   ]
  },
  {
   "cell_type": "markdown",
   "id": "c3b82e2e",
   "metadata": {},
   "source": [
    "# Create an Employee Table with Employee Name, Employee ID & Salary"
   ]
  },
  {
   "cell_type": "code",
   "execution_count": 9,
   "id": "2b8ee754",
   "metadata": {},
   "outputs": [],
   "source": [
    "mydb=mysql.connector.connect(host=\"localhost\",user=\"root\",password=\"12345\",database=\"Employee_Details\")\n",
    "dbse=mydb.cursor()\n",
    "dbse.execute(\"CREATE TABLE EMPLOYEES(EMPLOYEE_ID INT,EMPLOYEE_NAME VARCHAR(255),EMPLOYEE_SALARY DOUBLE)\")"
   ]
  },
  {
   "cell_type": "code",
   "execution_count": 11,
   "id": "66ddc8c5",
   "metadata": {},
   "outputs": [
    {
     "name": "stdout",
     "output_type": "stream",
     "text": [
      "('employees',)\n"
     ]
    }
   ],
   "source": [
    "mydb=mysql.connector.connect(host=\"localhost\",user=\"root\",password=\"12345\",database=\"Employee_Details\")\n",
    "dbse=mydb.cursor()\n",
    "dbse.execute(\"SHOW TABLES\")\n",
    "for entry in dbse:\n",
    "    print(entry)"
   ]
  },
  {
   "cell_type": "code",
   "execution_count": 12,
   "id": "04f0dcb5",
   "metadata": {},
   "outputs": [
    {
     "name": "stdout",
     "output_type": "stream",
     "text": [
      "('EMPLOYEE_ID', b'int', 'YES', '', None, '')\n",
      "('EMPLOYEE_NAME', b'varchar(255)', 'YES', '', None, '')\n",
      "('EMPLOYEE_SALARY', b'double', 'YES', '', None, '')\n"
     ]
    }
   ],
   "source": [
    "dbse=mydb.cursor()\n",
    "dbse.execute(\"SHOW COLUMNS FROM EMPLOYEES\")\n",
    "for entry in dbse:\n",
    "    print(entry)"
   ]
  },
  {
   "cell_type": "code",
   "execution_count": 15,
   "id": "793336ae",
   "metadata": {},
   "outputs": [
    {
     "name": "stdout",
     "output_type": "stream",
     "text": [
      "12 Records Inserted\n"
     ]
    }
   ],
   "source": [
    "mydb=mysql.connector.connect(host=\"localhost\",user=\"root\",password=\"12345\",database=\"Employee_Details\")\n",
    "dbse=mydb.cursor()\n",
    "sql=\"INSERT INTO EMPLOYEES(EMPLOYEE_ID,EMPLOYEE_NAME,EMPLOYEE_SALARY) VALUES(%s,%s,%s)\"\n",
    "val=[(1,'Mesh',2000000),(2,'Raji',125000),(3,'Thana',80000),(4,'Sudha',65000),(5,'Priya',90000),(6,'Padma',190000),(7,'Karthi',25000),(8,'Ganesh',40000),(9,'Femee',75000),(10,'Rosy',100000),(11,'Mothi',11000),(12,'Siva',5000)]\n",
    "dbse.executemany(sql,val)\n",
    "mydb.commit()\n",
    "print(dbse.rowcount,\"Records Inserted\")"
   ]
  },
  {
   "cell_type": "code",
   "execution_count": 16,
   "id": "65b3e8f0",
   "metadata": {},
   "outputs": [
    {
     "name": "stdout",
     "output_type": "stream",
     "text": [
      "(1, 'Mesh', 2000000.0)\n",
      "(2, 'Raji', 125000.0)\n",
      "(3, 'Thana', 80000.0)\n",
      "(4, 'Sudha', 65000.0)\n",
      "(5, 'Priya', 90000.0)\n",
      "(6, 'Padma', 190000.0)\n",
      "(7, 'Karthi', 25000.0)\n",
      "(8, 'Ganesh', 40000.0)\n",
      "(9, 'Femee', 75000.0)\n",
      "(10, 'Rosy', 100000.0)\n",
      "(11, 'Mothi', 11000.0)\n",
      "(12, 'Siva', 5000.0)\n"
     ]
    }
   ],
   "source": [
    "mycursor=mydb.cursor()\n",
    "mycursor.execute(\"SELECT * FROM EMPLOYEES\")\n",
    "myresult=mycursor.fetchall()\n",
    "for x in myresult:\n",
    "    print(x)"
   ]
  },
  {
   "cell_type": "markdown",
   "id": "4307fd0a",
   "metadata": {},
   "source": [
    "# Write a query to get the maximum and minimum salary from employees table"
   ]
  },
  {
   "cell_type": "code",
   "execution_count": 21,
   "id": "cd13d5b6",
   "metadata": {},
   "outputs": [
    {
     "name": "stdout",
     "output_type": "stream",
     "text": [
      "(1, 'Mesh', 2000000.0)\n"
     ]
    }
   ],
   "source": [
    "mycursor=mydb.cursor()\n",
    "mycursor.execute(\"SELECT * from EMPLOYEES where EMPLOYEE_SALARY=(SELECT max(EMPLOYEE_SALARY) from EMPLOYEES)\")\n",
    "myresult=mycursor.fetchall()\n",
    "for x in myresult:\n",
    "    print(x)"
   ]
  },
  {
   "cell_type": "code",
   "execution_count": 22,
   "id": "7886e560",
   "metadata": {},
   "outputs": [
    {
     "name": "stdout",
     "output_type": "stream",
     "text": [
      "(12, 'Siva', 5000.0)\n"
     ]
    }
   ],
   "source": [
    "mycursor=mydb.cursor()\n",
    "mycursor.execute(\"SELECT * from EMPLOYEES where EMPLOYEE_SALARY=(SELECT min(EMPLOYEE_SALARY) from EMPLOYEES)\")\n",
    "myresult=mycursor.fetchall()\n",
    "for x in myresult:\n",
    "    print(x)"
   ]
  },
  {
   "cell_type": "markdown",
   "id": "756f7c09",
   "metadata": {},
   "source": [
    "# Write a query to get the number of employees working with the company"
   ]
  },
  {
   "cell_type": "code",
   "execution_count": 23,
   "id": "96b23d07",
   "metadata": {},
   "outputs": [
    {
     "name": "stdout",
     "output_type": "stream",
     "text": [
      "(12,)\n"
     ]
    }
   ],
   "source": [
    "mycursor=mydb.cursor()\n",
    "mycursor.execute(\"SELECT COUNT(*) from EMPLOYEES\")\n",
    "myresult=mycursor.fetchall()\n",
    "for x in myresult:\n",
    "    print(x)"
   ]
  },
  {
   "cell_type": "markdown",
   "id": "cf96d3ad",
   "metadata": {},
   "source": [
    "# Write a query to get the first 3 characters of first name from employees table"
   ]
  },
  {
   "cell_type": "code",
   "execution_count": 24,
   "id": "9872a069",
   "metadata": {},
   "outputs": [
    {
     "name": "stdout",
     "output_type": "stream",
     "text": [
      "('Mes',)\n",
      "('Raj',)\n",
      "('Tha',)\n",
      "('Sud',)\n",
      "('Pri',)\n",
      "('Pad',)\n",
      "('Kar',)\n",
      "('Gan',)\n",
      "('Fem',)\n",
      "('Ros',)\n",
      "('Mot',)\n",
      "('Siv',)\n"
     ]
    }
   ],
   "source": [
    "mycursor=mydb.cursor()\n",
    "mycursor.execute(\"SELECT SUBSTRING(EMPLOYEE_NAME,1,3) from EMPLOYEES\")\n",
    "myresult=mycursor.fetchall()\n",
    "for x in myresult:\n",
    "    print(x)"
   ]
  }
 ],
 "metadata": {
  "kernelspec": {
   "display_name": "Python 3",
   "language": "python",
   "name": "python3"
  },
  "language_info": {
   "codemirror_mode": {
    "name": "ipython",
    "version": 3
   },
   "file_extension": ".py",
   "mimetype": "text/x-python",
   "name": "python",
   "nbconvert_exporter": "python",
   "pygments_lexer": "ipython3",
   "version": "3.9.5"
  }
 },
 "nbformat": 4,
 "nbformat_minor": 5
}
