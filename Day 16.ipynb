{
 "cells": [
  {
   "cell_type": "code",
   "execution_count": 1,
   "id": "94b35590",
   "metadata": {},
   "outputs": [
    {
     "name": "stdout",
     "output_type": "stream",
     "text": [
      "Enter the first number34\n",
      "Enter the second number90\n",
      "The product is  3060\n"
     ]
    }
   ],
   "source": [
    "#Create a lambda function that multiplies argument x with argument y\n",
    "a=lambda x,y:x*y\n",
    "x=int(input(\"Enter the first number\"))\n",
    "y=int(input(\"Enter the second number\"))\n",
    "print(\"The product is \",a(x,y))"
   ]
  },
  {
   "cell_type": "code",
   "execution_count": 2,
   "id": "700ed544",
   "metadata": {},
   "outputs": [
    {
     "name": "stdout",
     "output_type": "stream",
     "text": [
      "Enter the number of terms20\n",
      "The fibonacci series upto  20 is:  [0, 1, 1, 2, 3, 5, 8, 13, 21, 34, 55, 89, 144, 233, 377, 610, 987, 1597, 2584, 4181]\n"
     ]
    }
   ],
   "source": [
    "#Write a Python program to create Fibonacci series to n using Lambda\n",
    "from functools import reduce\n",
    "fibo=lambda n: reduce(lambda x, _: x+[x[-1]+x[-2]],range(n-2), [0, 1])\n",
    "fib=int(input(\"Enter the number of terms\"))\n",
    "print(\"The fibonacci series upto \",fib,\"is: \",fibo(fib))"
   ]
  },
  {
   "cell_type": "code",
   "execution_count": 3,
   "id": "ae01f623",
   "metadata": {},
   "outputs": [
    {
     "name": "stdout",
     "output_type": "stream",
     "text": [
      "Enter the number of elements you want to add in the list: \n",
      "6\n",
      "Enter the elements of the list: \n",
      "3\n",
      "4\n",
      "5\n",
      "6\n",
      "7\n",
      "8\n",
      "Enter the number you want to multiply: \n",
      "3\n",
      "List after multiplication is: \n",
      "9 12 15 18 21 24\n"
     ]
    }
   ],
   "source": [
    "#Write a Python program that multiply each number of given list with a given number\n",
    "List1=[]\n",
    "num=int(input(\"Enter the number of elements you want to add in the list: \\n\"))\n",
    "print(\"Enter the elements of the list: \")\n",
    "for i in range(num):\n",
    "    e=int(input())\n",
    "    List1.append(e)\n",
    "cons=int(input(\"Enter the number you want to multiply: \\n\"))\n",
    "new_num=list(map(lambda number:number*cons,List1))\n",
    "print(\"List after multiplication is: \")\n",
    "print(' '.join(map(str,new_num)))    "
   ]
  },
  {
   "cell_type": "code",
   "execution_count": 4,
   "id": "1f7a8db3",
   "metadata": {},
   "outputs": [
    {
     "name": "stdout",
     "output_type": "stream",
     "text": [
      "Enter the number of elements you want to add in the list: \n",
      "10\n",
      "Enter the elements of the list: \n",
      "9\n",
      "34\n",
      "18\n",
      "20\n",
      "27\n",
      "78\n",
      "36\n",
      "60\n",
      "54\n",
      "90\n",
      "The numbers divisible by 9 in the list are: \n",
      "9 18 27 36 54 90\n"
     ]
    }
   ],
   "source": [
    "#Write a Python Program to find numbers divisible by 9 from a list of numbers\n",
    "List2=[]\n",
    "num1=int(input(\"Enter the number of elements you want to add in the list: \\n\"))\n",
    "print(\"Enter the elements of the list: \")\n",
    "for i in range(num1):\n",
    "    ele=int(input())\n",
    "    List2.append(ele)\n",
    "List3=list(filter(lambda i:i%9==0,List2))\n",
    "print(\"The numbers divisible by 9 in the list are: \")\n",
    "print(' '.join(map(str,List3)))    "
   ]
  },
  {
   "cell_type": "code",
   "execution_count": 5,
   "id": "737f28a3",
   "metadata": {},
   "outputs": [
    {
     "name": "stdout",
     "output_type": "stream",
     "text": [
      "Enter the number of elements you want to add in the list: \n",
      "8\n",
      "Enter the elements of the list: \n",
      "1\n",
      "2\n",
      "3\n",
      "4\n",
      "5\n",
      "6\n",
      "7\n",
      "8\n",
      "The number of even numbers in the list are:  4\n",
      "The even numbers in the list are: \n",
      "2 4 6 8\n"
     ]
    }
   ],
   "source": [
    "#Write a python program to count the even numbers in a given list of integers\n",
    "List4=[]\n",
    "num2=int(input(\"Enter the number of elements you want to add in the list: \\n\"))\n",
    "print(\"Enter the elements of the list: \")\n",
    "for i in range(num2):\n",
    "    el=int(input())\n",
    "    List4.append(el)\n",
    "List5=list(filter(lambda i:i%2==0,List4))\n",
    "print(\"The number of even numbers in the list are: \",len(List5))\n",
    "print(\"The even numbers in the list are: \")\n",
    "print(' '.join(map(str,List5))) \n"
   ]
  },
  {
   "cell_type": "code",
   "execution_count": null,
   "id": "025d712c",
   "metadata": {},
   "outputs": [],
   "source": []
  }
 ],
 "metadata": {
  "kernelspec": {
   "display_name": "Python 3",
   "language": "python",
   "name": "python3"
  },
  "language_info": {
   "codemirror_mode": {
    "name": "ipython",
    "version": 3
   },
   "file_extension": ".py",
   "mimetype": "text/x-python",
   "name": "python",
   "nbconvert_exporter": "python",
   "pygments_lexer": "ipython3",
   "version": "3.9.5"
  }
 },
 "nbformat": 4,
 "nbformat_minor": 5
}
