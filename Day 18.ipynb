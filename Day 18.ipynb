{
 "cells": [
  {
   "cell_type": "code",
   "execution_count": 1,
   "id": "ea8c59cb",
   "metadata": {},
   "outputs": [],
   "source": [
    "#Create a DB with doctor and doctor ID & patients visited\n",
    "import mysql.connector"
   ]
  },
  {
   "cell_type": "code",
   "execution_count": 2,
   "id": "6aad4148",
   "metadata": {},
   "outputs": [],
   "source": [
    "mydb=mysql.connector.connect(host=\"localhost\",user=\"root\",password=\"12345\")"
   ]
  },
  {
   "cell_type": "code",
   "execution_count": 3,
   "id": "c8c2a145",
   "metadata": {},
   "outputs": [
    {
     "name": "stdout",
     "output_type": "stream",
     "text": [
      "<mysql.connector.connection_cext.CMySQLConnection object at 0x000001AA0CB50370>\n"
     ]
    }
   ],
   "source": [
    "print(mydb)"
   ]
  },
  {
   "cell_type": "code",
   "execution_count": 4,
   "id": "fe55a756",
   "metadata": {},
   "outputs": [],
   "source": [
    "dbse=mydb.cursor()\n",
    "dbse.execute(\"CREATE DATABASE Doctors\")"
   ]
  },
  {
   "cell_type": "code",
   "execution_count": 5,
   "id": "734b7872",
   "metadata": {},
   "outputs": [
    {
     "name": "stdout",
     "output_type": "stream",
     "text": [
      "('doctors',)\n",
      "('information_schema',)\n",
      "('mydatabase',)\n",
      "('mysql',)\n",
      "('performance_schema',)\n",
      "('sys',)\n"
     ]
    }
   ],
   "source": [
    "dbse=mydb.cursor()\n",
    "dbse.execute(\"SHOW DATABASES\")\n",
    "for entry in dbse:\n",
    "    print(entry)"
   ]
  },
  {
   "cell_type": "code",
   "execution_count": 6,
   "id": "bdc0b2ef",
   "metadata": {},
   "outputs": [],
   "source": [
    "mydb=mysql.connector.connect(host=\"localhost\",user=\"root\",password=\"12345\",database=\"Doctors\")\n",
    "dbse=mydb.cursor()\n",
    "dbse.execute(\"CREATE TABLE Doctors(Doctor_ID VARCHAR(255),Doctor_Name VARCHAR(255),Patients_Visited VARCHAR(255))\")"
   ]
  },
  {
   "cell_type": "code",
   "execution_count": 7,
   "id": "881262d2",
   "metadata": {},
   "outputs": [
    {
     "name": "stdout",
     "output_type": "stream",
     "text": [
      "('doctors',)\n"
     ]
    }
   ],
   "source": [
    "dbse=mydb.cursor()\n",
    "dbse.execute(\"SHOW TABLES\")\n",
    "for value in dbse:\n",
    "    print(value)"
   ]
  },
  {
   "cell_type": "code",
   "execution_count": 8,
   "id": "e9bd617f",
   "metadata": {},
   "outputs": [
    {
     "name": "stdout",
     "output_type": "stream",
     "text": [
      "12 Records Inserted\n"
     ]
    }
   ],
   "source": [
    "dbse=mydb.cursor()\n",
    "sql=\"INSERT INTO Doctors(Doctor_ID,Doctor_Name,Patients_Visited) VALUES(%s,%s,%s)\"\n",
    "val=[('D1','Mesh','2'),('D2','Raji','12'),('D3','Thana','0'),('D4','Sudha','6'),('D5','Priya','9'),('D6','Padma','19'),('D7','Karthi','0'),('D8','Ganesh','4'),('D9','Femee','8'),('D10','Rosy','0'),('D11','Mothi','11'),('D12','Siva','0')]\n",
    "dbse.executemany(sql,val)\n",
    "mydb.commit()\n",
    "print(dbse.rowcount,\"Records Inserted\")"
   ]
  },
  {
   "cell_type": "code",
   "execution_count": 9,
   "id": "3ec1751f",
   "metadata": {},
   "outputs": [
    {
     "name": "stdout",
     "output_type": "stream",
     "text": [
      "('D2', 'Raji', '12')\n",
      "('D4', 'Sudha', '6')\n",
      "('D5', 'Priya', '9')\n",
      "('D6', 'Padma', '19')\n",
      "('D9', 'Femee', '8')\n",
      "('D11', 'Mothi', '11')\n"
     ]
    }
   ],
   "source": [
    "#Get the doctor(s) who have more than 5 patients visited\n",
    "mycursor=mydb.cursor()\n",
    "mycursor.execute(\"SELECT * FROM Doctors where Patients_Visited>5\")\n",
    "myresult=mycursor.fetchall()\n",
    "for x in myresult:\n",
    "    print(x)"
   ]
  },
  {
   "cell_type": "code",
   "execution_count": 10,
   "id": "9cd8e4aa",
   "metadata": {},
   "outputs": [
    {
     "name": "stdout",
     "output_type": "stream",
     "text": [
      "('D3', 'Thana', '0')\n",
      "('D7', 'Karthi', '0')\n",
      "('D10', 'Rosy', '0')\n",
      "('D12', 'Siva', '0')\n"
     ]
    }
   ],
   "source": [
    "#Get the doctors with no patients visit\n",
    "mycursor=mydb.cursor()\n",
    "mycursor.execute(\"SELECT * FROM Doctors where Patients_Visited=0\")\n",
    "myresult=mycursor.fetchall()\n",
    "for x in myresult:\n",
    "    print(x)"
   ]
  }
 ],
 "metadata": {
  "kernelspec": {
   "display_name": "Python 3",
   "language": "python",
   "name": "python3"
  },
  "language_info": {
   "codemirror_mode": {
    "name": "ipython",
    "version": 3
   },
   "file_extension": ".py",
   "mimetype": "text/x-python",
   "name": "python",
   "nbconvert_exporter": "python",
   "pygments_lexer": "ipython3",
   "version": "3.9.5"
  }
 },
 "nbformat": 4,
 "nbformat_minor": 5
}
